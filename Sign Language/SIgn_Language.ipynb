{
  "nbformat": 4,
  "nbformat_minor": 0,
  "metadata": {
    "accelerator": "GPU",
    "colab": {
      "name": "SIgn Language.ipynb",
      "provenance": [],
      "collapsed_sections": []
    },
    "kernelspec": {
      "display_name": "Python 3",
      "name": "python3"
    },
    "language_info": {
      "name": "python"
    }
  },
  "cells": [
    {
      "cell_type": "code",
      "metadata": {
        "colab": {
          "background_save": true,
          "base_uri": "https://localhost:8080/"
        },
        "id": "06dw0h9ZoebZ",
        "outputId": "88e65d74-6b93-482d-9476-62ec7009935b"
      },
      "source": [
        "from google_drive_downloader import GoogleDriveDownloader as gdd\n",
        "\n",
        "gdd.download_file_from_google_drive(file_id='1QtuAY57-FVeMiDHExgYN4-kEgGElQYH-',\n",
        "dest_path='content/asl_alphabets.zip',\n",
        "unzip=True)"
      ],
      "execution_count": null,
      "outputs": [
        {
          "name": "stdout",
          "output_type": "stream",
          "text": [
            "Downloading 1QtuAY57-FVeMiDHExgYN4-kEgGElQYH- into content/asl_alphabets.zip... Done.\n",
            "Unzipping...Done.\n"
          ]
        }
      ]
    },
    {
      "cell_type": "code",
      "metadata": {
        "colab": {
          "background_save": true
        },
        "id": "RbHIa9i4b9N_"
      },
      "source": [
        ""
      ],
      "execution_count": null,
      "outputs": []
    },
    {
      "cell_type": "code",
      "metadata": {
        "colab": {
          "background_save": true
        },
        "id": "5BSFThPLozw4"
      },
      "source": [
        "import pandas as pd # Data analysis and manipultion tool\n",
        "import numpy as np # Fundamental package for linear algebra and multidimensional arrays\n",
        "import tensorflow as tf # Deep Learning Tool\n",
        "import os # OS module in Python provides a way of using operating system dependent functionality\n",
        "import cv2 # Library for image processing\n",
        "import matplotlib.pyplot as plt\n",
        "from sklearn.model_selection import train_test_split # For splitting the data into train and validation set"
      ],
      "execution_count": null,
      "outputs": []
    },
    {
      "cell_type": "code",
      "metadata": {
        "colab": {
          "background_save": true
        },
        "id": "1Ia3Ybvkp00D"
      },
      "source": [
        "import tensorflow as tf\n",
        "import os\n",
        "import numpy as np\n",
        "import tensorflow_datasets as tfds"
      ],
      "execution_count": null,
      "outputs": []
    },
    {
      "cell_type": "code",
      "metadata": {
        "colab": {
          "background_save": true,
          "base_uri": "https://localhost:8080/"
        },
        "id": "672XuLEqp0-F",
        "outputId": "e38f4d06-96ec-4ad2-f42b-fe44b3c3febc"
      },
      "source": [
        "physical_devices = tf.config.experimental.list_physical_devices('GPU')\n",
        "print(\"GPUs Available: \", len(physical_devices))\n",
        "tf.config.experimental.set_memory_growth(physical_devices[0], True)"
      ],
      "execution_count": null,
      "outputs": [
        {
          "name": "stdout",
          "output_type": "stream",
          "text": [
            "GPUs Available:  0\n"
          ]
        },
        {
          "ename": "IndexError",
          "evalue": "ignored",
          "output_type": "error",
          "traceback": [
            "\u001b[0;31m---------------------------------------------------------------------------\u001b[0m",
            "\u001b[0;31mIndexError\u001b[0m                                Traceback (most recent call last)",
            "\u001b[0;32m<ipython-input-4-798568c40ab5>\u001b[0m in \u001b[0;36m<module>\u001b[0;34m()\u001b[0m\n\u001b[1;32m      1\u001b[0m \u001b[0mphysical_devices\u001b[0m \u001b[0;34m=\u001b[0m \u001b[0mtf\u001b[0m\u001b[0;34m.\u001b[0m\u001b[0mconfig\u001b[0m\u001b[0;34m.\u001b[0m\u001b[0mexperimental\u001b[0m\u001b[0;34m.\u001b[0m\u001b[0mlist_physical_devices\u001b[0m\u001b[0;34m(\u001b[0m\u001b[0;34m'GPU'\u001b[0m\u001b[0;34m)\u001b[0m\u001b[0;34m\u001b[0m\u001b[0;34m\u001b[0m\u001b[0m\n\u001b[1;32m      2\u001b[0m \u001b[0mprint\u001b[0m\u001b[0;34m(\u001b[0m\u001b[0;34m\"GPUs Available: \"\u001b[0m\u001b[0;34m,\u001b[0m \u001b[0mlen\u001b[0m\u001b[0;34m(\u001b[0m\u001b[0mphysical_devices\u001b[0m\u001b[0;34m)\u001b[0m\u001b[0;34m)\u001b[0m\u001b[0;34m\u001b[0m\u001b[0;34m\u001b[0m\u001b[0m\n\u001b[0;32m----> 3\u001b[0;31m \u001b[0mtf\u001b[0m\u001b[0;34m.\u001b[0m\u001b[0mconfig\u001b[0m\u001b[0;34m.\u001b[0m\u001b[0mexperimental\u001b[0m\u001b[0;34m.\u001b[0m\u001b[0mset_memory_growth\u001b[0m\u001b[0;34m(\u001b[0m\u001b[0mphysical_devices\u001b[0m\u001b[0;34m[\u001b[0m\u001b[0;36m0\u001b[0m\u001b[0;34m]\u001b[0m\u001b[0;34m,\u001b[0m \u001b[0;32mTrue\u001b[0m\u001b[0;34m)\u001b[0m\u001b[0;34m\u001b[0m\u001b[0;34m\u001b[0m\u001b[0m\n\u001b[0m",
            "\u001b[0;31mIndexError\u001b[0m: list index out of range"
          ]
        }
      ]
    },
    {
      "cell_type": "code",
      "metadata": {
        "id": "-Vd8ymRDsOAm"
      },
      "source": [
        "\n",
        "from keras.preprocessing.image import ImageDataGenerator, load_img"
      ],
      "execution_count": null,
      "outputs": []
    },
    {
      "cell_type": "markdown",
      "metadata": {
        "id": "iQbgNurCp8J3"
      },
      "source": [
        "# Reading the Data"
      ]
    },
    {
      "cell_type": "code",
      "metadata": {
        "colab": {
          "base_uri": "https://localhost:8080/",
          "height": 204
        },
        "id": "J7tTEypbo5K9",
        "outputId": "482490c2-4c01-4a07-e451-5befaa788d31"
      },
      "source": [
        "df = pd.read_csv(\"/content/content/asl_alphabets/Training_set.csv\")\n",
        "df.head()"
      ],
      "execution_count": null,
      "outputs": [
        {
          "data": {
            "text/html": [
              "<div>\n",
              "<style scoped>\n",
              "    .dataframe tbody tr th:only-of-type {\n",
              "        vertical-align: middle;\n",
              "    }\n",
              "\n",
              "    .dataframe tbody tr th {\n",
              "        vertical-align: top;\n",
              "    }\n",
              "\n",
              "    .dataframe thead th {\n",
              "        text-align: right;\n",
              "    }\n",
              "</style>\n",
              "<table border=\"1\" class=\"dataframe\">\n",
              "  <thead>\n",
              "    <tr style=\"text-align: right;\">\n",
              "      <th></th>\n",
              "      <th>filename</th>\n",
              "      <th>label</th>\n",
              "    </tr>\n",
              "  </thead>\n",
              "  <tbody>\n",
              "    <tr>\n",
              "      <th>0</th>\n",
              "      <td>Image_1.jpg</td>\n",
              "      <td>B</td>\n",
              "    </tr>\n",
              "    <tr>\n",
              "      <th>1</th>\n",
              "      <td>Image_2.jpg</td>\n",
              "      <td>P</td>\n",
              "    </tr>\n",
              "    <tr>\n",
              "      <th>2</th>\n",
              "      <td>Image_3.jpg</td>\n",
              "      <td>J</td>\n",
              "    </tr>\n",
              "    <tr>\n",
              "      <th>3</th>\n",
              "      <td>Image_4.jpg</td>\n",
              "      <td>T</td>\n",
              "    </tr>\n",
              "    <tr>\n",
              "      <th>4</th>\n",
              "      <td>Image_5.jpg</td>\n",
              "      <td>B</td>\n",
              "    </tr>\n",
              "  </tbody>\n",
              "</table>\n",
              "</div>"
            ],
            "text/plain": [
              "      filename label\n",
              "0  Image_1.jpg     B\n",
              "1  Image_2.jpg     P\n",
              "2  Image_3.jpg     J\n",
              "3  Image_4.jpg     T\n",
              "4  Image_5.jpg     B"
            ]
          },
          "execution_count": 7,
          "metadata": {},
          "output_type": "execute_result"
        }
      ]
    },
    {
      "cell_type": "code",
      "metadata": {
        "id": "33mwkiWKqC1T"
      },
      "source": [
        "file_path = [[fname, \"/content/content/asl_alphabets/train/\" + fname ] for fname in df['filename']]"
      ],
      "execution_count": null,
      "outputs": []
    },
    {
      "cell_type": "code",
      "metadata": {
        "colab": {
          "base_uri": "https://localhost:8080/"
        },
        "id": "h6Hhu-o1rFRp",
        "outputId": "e06f49d7-4663-46fe-a928-d99091a5b077"
      },
      "source": [
        "file_path"
      ],
      "execution_count": null,
      "outputs": [
        {
          "data": {
            "text/plain": [
              "[['Image_1.jpg', '/content/content/asl_alphabets/train/Image_1.jpg'],\n",
              " ['Image_2.jpg', '/content/content/asl_alphabets/train/Image_2.jpg'],\n",
              " ['Image_3.jpg', '/content/content/asl_alphabets/train/Image_3.jpg'],\n",
              " ['Image_4.jpg', '/content/content/asl_alphabets/train/Image_4.jpg'],\n",
              " ['Image_5.jpg', '/content/content/asl_alphabets/train/Image_5.jpg'],\n",
              " ['Image_6.jpg', '/content/content/asl_alphabets/train/Image_6.jpg'],\n",
              " ['Image_7.jpg', '/content/content/asl_alphabets/train/Image_7.jpg'],\n",
              " ['Image_8.jpg', '/content/content/asl_alphabets/train/Image_8.jpg'],\n",
              " ['Image_9.jpg', '/content/content/asl_alphabets/train/Image_9.jpg'],\n",
              " ['Image_10.jpg', '/content/content/asl_alphabets/train/Image_10.jpg'],\n",
              " ['Image_11.jpg', '/content/content/asl_alphabets/train/Image_11.jpg'],\n",
              " ['Image_12.jpg', '/content/content/asl_alphabets/train/Image_12.jpg'],\n",
              " ['Image_13.jpg', '/content/content/asl_alphabets/train/Image_13.jpg'],\n",
              " ['Image_14.jpg', '/content/content/asl_alphabets/train/Image_14.jpg'],\n",
              " ['Image_15.jpg', '/content/content/asl_alphabets/train/Image_15.jpg'],\n",
              " ['Image_16.jpg', '/content/content/asl_alphabets/train/Image_16.jpg'],\n",
              " ['Image_17.jpg', '/content/content/asl_alphabets/train/Image_17.jpg'],\n",
              " ['Image_18.jpg', '/content/content/asl_alphabets/train/Image_18.jpg'],\n",
              " ['Image_19.jpg', '/content/content/asl_alphabets/train/Image_19.jpg'],\n",
              " ['Image_20.jpg', '/content/content/asl_alphabets/train/Image_20.jpg'],\n",
              " ['Image_21.jpg', '/content/content/asl_alphabets/train/Image_21.jpg'],\n",
              " ['Image_22.jpg', '/content/content/asl_alphabets/train/Image_22.jpg'],\n",
              " ['Image_23.jpg', '/content/content/asl_alphabets/train/Image_23.jpg'],\n",
              " ['Image_24.jpg', '/content/content/asl_alphabets/train/Image_24.jpg'],\n",
              " ['Image_25.jpg', '/content/content/asl_alphabets/train/Image_25.jpg'],\n",
              " ['Image_26.jpg', '/content/content/asl_alphabets/train/Image_26.jpg'],\n",
              " ['Image_27.jpg', '/content/content/asl_alphabets/train/Image_27.jpg'],\n",
              " ['Image_28.jpg', '/content/content/asl_alphabets/train/Image_28.jpg'],\n",
              " ['Image_29.jpg', '/content/content/asl_alphabets/train/Image_29.jpg'],\n",
              " ['Image_30.jpg', '/content/content/asl_alphabets/train/Image_30.jpg'],\n",
              " ['Image_31.jpg', '/content/content/asl_alphabets/train/Image_31.jpg'],\n",
              " ['Image_32.jpg', '/content/content/asl_alphabets/train/Image_32.jpg'],\n",
              " ['Image_33.jpg', '/content/content/asl_alphabets/train/Image_33.jpg'],\n",
              " ['Image_34.jpg', '/content/content/asl_alphabets/train/Image_34.jpg'],\n",
              " ['Image_35.jpg', '/content/content/asl_alphabets/train/Image_35.jpg'],\n",
              " ['Image_36.jpg', '/content/content/asl_alphabets/train/Image_36.jpg'],\n",
              " ['Image_37.jpg', '/content/content/asl_alphabets/train/Image_37.jpg'],\n",
              " ['Image_38.jpg', '/content/content/asl_alphabets/train/Image_38.jpg'],\n",
              " ['Image_39.jpg', '/content/content/asl_alphabets/train/Image_39.jpg'],\n",
              " ['Image_40.jpg', '/content/content/asl_alphabets/train/Image_40.jpg'],\n",
              " ['Image_41.jpg', '/content/content/asl_alphabets/train/Image_41.jpg'],\n",
              " ['Image_42.jpg', '/content/content/asl_alphabets/train/Image_42.jpg'],\n",
              " ['Image_43.jpg', '/content/content/asl_alphabets/train/Image_43.jpg'],\n",
              " ['Image_44.jpg', '/content/content/asl_alphabets/train/Image_44.jpg'],\n",
              " ['Image_45.jpg', '/content/content/asl_alphabets/train/Image_45.jpg'],\n",
              " ['Image_46.jpg', '/content/content/asl_alphabets/train/Image_46.jpg'],\n",
              " ['Image_47.jpg', '/content/content/asl_alphabets/train/Image_47.jpg'],\n",
              " ['Image_48.jpg', '/content/content/asl_alphabets/train/Image_48.jpg'],\n",
              " ['Image_49.jpg', '/content/content/asl_alphabets/train/Image_49.jpg'],\n",
              " ['Image_50.jpg', '/content/content/asl_alphabets/train/Image_50.jpg'],\n",
              " ['Image_51.jpg', '/content/content/asl_alphabets/train/Image_51.jpg'],\n",
              " ['Image_52.jpg', '/content/content/asl_alphabets/train/Image_52.jpg'],\n",
              " ['Image_53.jpg', '/content/content/asl_alphabets/train/Image_53.jpg'],\n",
              " ['Image_54.jpg', '/content/content/asl_alphabets/train/Image_54.jpg'],\n",
              " ['Image_55.jpg', '/content/content/asl_alphabets/train/Image_55.jpg'],\n",
              " ['Image_56.jpg', '/content/content/asl_alphabets/train/Image_56.jpg'],\n",
              " ['Image_57.jpg', '/content/content/asl_alphabets/train/Image_57.jpg'],\n",
              " ['Image_58.jpg', '/content/content/asl_alphabets/train/Image_58.jpg'],\n",
              " ['Image_59.jpg', '/content/content/asl_alphabets/train/Image_59.jpg'],\n",
              " ['Image_60.jpg', '/content/content/asl_alphabets/train/Image_60.jpg'],\n",
              " ['Image_61.jpg', '/content/content/asl_alphabets/train/Image_61.jpg'],\n",
              " ['Image_62.jpg', '/content/content/asl_alphabets/train/Image_62.jpg'],\n",
              " ['Image_63.jpg', '/content/content/asl_alphabets/train/Image_63.jpg'],\n",
              " ['Image_64.jpg', '/content/content/asl_alphabets/train/Image_64.jpg'],\n",
              " ['Image_65.jpg', '/content/content/asl_alphabets/train/Image_65.jpg'],\n",
              " ['Image_66.jpg', '/content/content/asl_alphabets/train/Image_66.jpg'],\n",
              " ['Image_67.jpg', '/content/content/asl_alphabets/train/Image_67.jpg'],\n",
              " ['Image_68.jpg', '/content/content/asl_alphabets/train/Image_68.jpg'],\n",
              " ['Image_69.jpg', '/content/content/asl_alphabets/train/Image_69.jpg'],\n",
              " ['Image_70.jpg', '/content/content/asl_alphabets/train/Image_70.jpg'],\n",
              " ['Image_71.jpg', '/content/content/asl_alphabets/train/Image_71.jpg'],\n",
              " ['Image_72.jpg', '/content/content/asl_alphabets/train/Image_72.jpg'],\n",
              " ['Image_73.jpg', '/content/content/asl_alphabets/train/Image_73.jpg'],\n",
              " ['Image_74.jpg', '/content/content/asl_alphabets/train/Image_74.jpg'],\n",
              " ['Image_75.jpg', '/content/content/asl_alphabets/train/Image_75.jpg'],\n",
              " ['Image_76.jpg', '/content/content/asl_alphabets/train/Image_76.jpg'],\n",
              " ['Image_77.jpg', '/content/content/asl_alphabets/train/Image_77.jpg'],\n",
              " ['Image_78.jpg', '/content/content/asl_alphabets/train/Image_78.jpg'],\n",
              " ['Image_79.jpg', '/content/content/asl_alphabets/train/Image_79.jpg'],\n",
              " ['Image_80.jpg', '/content/content/asl_alphabets/train/Image_80.jpg'],\n",
              " ['Image_81.jpg', '/content/content/asl_alphabets/train/Image_81.jpg'],\n",
              " ['Image_82.jpg', '/content/content/asl_alphabets/train/Image_82.jpg'],\n",
              " ['Image_83.jpg', '/content/content/asl_alphabets/train/Image_83.jpg'],\n",
              " ['Image_84.jpg', '/content/content/asl_alphabets/train/Image_84.jpg'],\n",
              " ['Image_85.jpg', '/content/content/asl_alphabets/train/Image_85.jpg'],\n",
              " ['Image_86.jpg', '/content/content/asl_alphabets/train/Image_86.jpg'],\n",
              " ['Image_87.jpg', '/content/content/asl_alphabets/train/Image_87.jpg'],\n",
              " ['Image_88.jpg', '/content/content/asl_alphabets/train/Image_88.jpg'],\n",
              " ['Image_89.jpg', '/content/content/asl_alphabets/train/Image_89.jpg'],\n",
              " ['Image_90.jpg', '/content/content/asl_alphabets/train/Image_90.jpg'],\n",
              " ['Image_91.jpg', '/content/content/asl_alphabets/train/Image_91.jpg'],\n",
              " ['Image_92.jpg', '/content/content/asl_alphabets/train/Image_92.jpg'],\n",
              " ['Image_93.jpg', '/content/content/asl_alphabets/train/Image_93.jpg'],\n",
              " ['Image_94.jpg', '/content/content/asl_alphabets/train/Image_94.jpg'],\n",
              " ['Image_95.jpg', '/content/content/asl_alphabets/train/Image_95.jpg'],\n",
              " ['Image_96.jpg', '/content/content/asl_alphabets/train/Image_96.jpg'],\n",
              " ['Image_97.jpg', '/content/content/asl_alphabets/train/Image_97.jpg'],\n",
              " ['Image_98.jpg', '/content/content/asl_alphabets/train/Image_98.jpg'],\n",
              " ['Image_99.jpg', '/content/content/asl_alphabets/train/Image_99.jpg'],\n",
              " ['Image_100.jpg', '/content/content/asl_alphabets/train/Image_100.jpg'],\n",
              " ['Image_101.jpg', '/content/content/asl_alphabets/train/Image_101.jpg'],\n",
              " ['Image_102.jpg', '/content/content/asl_alphabets/train/Image_102.jpg'],\n",
              " ['Image_103.jpg', '/content/content/asl_alphabets/train/Image_103.jpg'],\n",
              " ['Image_104.jpg', '/content/content/asl_alphabets/train/Image_104.jpg'],\n",
              " ['Image_105.jpg', '/content/content/asl_alphabets/train/Image_105.jpg'],\n",
              " ['Image_106.jpg', '/content/content/asl_alphabets/train/Image_106.jpg'],\n",
              " ['Image_107.jpg', '/content/content/asl_alphabets/train/Image_107.jpg'],\n",
              " ['Image_108.jpg', '/content/content/asl_alphabets/train/Image_108.jpg'],\n",
              " ['Image_109.jpg', '/content/content/asl_alphabets/train/Image_109.jpg'],\n",
              " ['Image_110.jpg', '/content/content/asl_alphabets/train/Image_110.jpg'],\n",
              " ['Image_111.jpg', '/content/content/asl_alphabets/train/Image_111.jpg'],\n",
              " ['Image_112.jpg', '/content/content/asl_alphabets/train/Image_112.jpg'],\n",
              " ['Image_113.jpg', '/content/content/asl_alphabets/train/Image_113.jpg'],\n",
              " ['Image_114.jpg', '/content/content/asl_alphabets/train/Image_114.jpg'],\n",
              " ['Image_115.jpg', '/content/content/asl_alphabets/train/Image_115.jpg'],\n",
              " ['Image_116.jpg', '/content/content/asl_alphabets/train/Image_116.jpg'],\n",
              " ['Image_117.jpg', '/content/content/asl_alphabets/train/Image_117.jpg'],\n",
              " ['Image_118.jpg', '/content/content/asl_alphabets/train/Image_118.jpg'],\n",
              " ['Image_119.jpg', '/content/content/asl_alphabets/train/Image_119.jpg'],\n",
              " ['Image_120.jpg', '/content/content/asl_alphabets/train/Image_120.jpg'],\n",
              " ['Image_121.jpg', '/content/content/asl_alphabets/train/Image_121.jpg'],\n",
              " ['Image_122.jpg', '/content/content/asl_alphabets/train/Image_122.jpg'],\n",
              " ['Image_123.jpg', '/content/content/asl_alphabets/train/Image_123.jpg'],\n",
              " ['Image_124.jpg', '/content/content/asl_alphabets/train/Image_124.jpg'],\n",
              " ['Image_125.jpg', '/content/content/asl_alphabets/train/Image_125.jpg'],\n",
              " ['Image_126.jpg', '/content/content/asl_alphabets/train/Image_126.jpg'],\n",
              " ['Image_127.jpg', '/content/content/asl_alphabets/train/Image_127.jpg'],\n",
              " ['Image_128.jpg', '/content/content/asl_alphabets/train/Image_128.jpg'],\n",
              " ['Image_129.jpg', '/content/content/asl_alphabets/train/Image_129.jpg'],\n",
              " ['Image_130.jpg', '/content/content/asl_alphabets/train/Image_130.jpg'],\n",
              " ['Image_131.jpg', '/content/content/asl_alphabets/train/Image_131.jpg'],\n",
              " ['Image_132.jpg', '/content/content/asl_alphabets/train/Image_132.jpg'],\n",
              " ['Image_133.jpg', '/content/content/asl_alphabets/train/Image_133.jpg'],\n",
              " ['Image_134.jpg', '/content/content/asl_alphabets/train/Image_134.jpg'],\n",
              " ['Image_135.jpg', '/content/content/asl_alphabets/train/Image_135.jpg'],\n",
              " ['Image_136.jpg', '/content/content/asl_alphabets/train/Image_136.jpg'],\n",
              " ['Image_137.jpg', '/content/content/asl_alphabets/train/Image_137.jpg'],\n",
              " ['Image_138.jpg', '/content/content/asl_alphabets/train/Image_138.jpg'],\n",
              " ['Image_139.jpg', '/content/content/asl_alphabets/train/Image_139.jpg'],\n",
              " ['Image_140.jpg', '/content/content/asl_alphabets/train/Image_140.jpg'],\n",
              " ['Image_141.jpg', '/content/content/asl_alphabets/train/Image_141.jpg'],\n",
              " ['Image_142.jpg', '/content/content/asl_alphabets/train/Image_142.jpg'],\n",
              " ['Image_143.jpg', '/content/content/asl_alphabets/train/Image_143.jpg'],\n",
              " ['Image_144.jpg', '/content/content/asl_alphabets/train/Image_144.jpg'],\n",
              " ['Image_145.jpg', '/content/content/asl_alphabets/train/Image_145.jpg'],\n",
              " ['Image_146.jpg', '/content/content/asl_alphabets/train/Image_146.jpg'],\n",
              " ['Image_147.jpg', '/content/content/asl_alphabets/train/Image_147.jpg'],\n",
              " ['Image_148.jpg', '/content/content/asl_alphabets/train/Image_148.jpg'],\n",
              " ['Image_149.jpg', '/content/content/asl_alphabets/train/Image_149.jpg'],\n",
              " ['Image_150.jpg', '/content/content/asl_alphabets/train/Image_150.jpg'],\n",
              " ['Image_151.jpg', '/content/content/asl_alphabets/train/Image_151.jpg'],\n",
              " ['Image_152.jpg', '/content/content/asl_alphabets/train/Image_152.jpg'],\n",
              " ['Image_153.jpg', '/content/content/asl_alphabets/train/Image_153.jpg'],\n",
              " ['Image_154.jpg', '/content/content/asl_alphabets/train/Image_154.jpg'],\n",
              " ['Image_155.jpg', '/content/content/asl_alphabets/train/Image_155.jpg'],\n",
              " ['Image_156.jpg', '/content/content/asl_alphabets/train/Image_156.jpg'],\n",
              " ['Image_157.jpg', '/content/content/asl_alphabets/train/Image_157.jpg'],\n",
              " ['Image_158.jpg', '/content/content/asl_alphabets/train/Image_158.jpg'],\n",
              " ['Image_159.jpg', '/content/content/asl_alphabets/train/Image_159.jpg'],\n",
              " ['Image_160.jpg', '/content/content/asl_alphabets/train/Image_160.jpg'],\n",
              " ['Image_161.jpg', '/content/content/asl_alphabets/train/Image_161.jpg'],\n",
              " ['Image_162.jpg', '/content/content/asl_alphabets/train/Image_162.jpg'],\n",
              " ['Image_163.jpg', '/content/content/asl_alphabets/train/Image_163.jpg'],\n",
              " ['Image_164.jpg', '/content/content/asl_alphabets/train/Image_164.jpg'],\n",
              " ['Image_165.jpg', '/content/content/asl_alphabets/train/Image_165.jpg'],\n",
              " ['Image_166.jpg', '/content/content/asl_alphabets/train/Image_166.jpg'],\n",
              " ['Image_167.jpg', '/content/content/asl_alphabets/train/Image_167.jpg'],\n",
              " ['Image_168.jpg', '/content/content/asl_alphabets/train/Image_168.jpg'],\n",
              " ['Image_169.jpg', '/content/content/asl_alphabets/train/Image_169.jpg'],\n",
              " ['Image_170.jpg', '/content/content/asl_alphabets/train/Image_170.jpg'],\n",
              " ['Image_171.jpg', '/content/content/asl_alphabets/train/Image_171.jpg'],\n",
              " ['Image_172.jpg', '/content/content/asl_alphabets/train/Image_172.jpg'],\n",
              " ['Image_173.jpg', '/content/content/asl_alphabets/train/Image_173.jpg'],\n",
              " ['Image_174.jpg', '/content/content/asl_alphabets/train/Image_174.jpg'],\n",
              " ['Image_175.jpg', '/content/content/asl_alphabets/train/Image_175.jpg'],\n",
              " ['Image_176.jpg', '/content/content/asl_alphabets/train/Image_176.jpg'],\n",
              " ['Image_177.jpg', '/content/content/asl_alphabets/train/Image_177.jpg'],\n",
              " ['Image_178.jpg', '/content/content/asl_alphabets/train/Image_178.jpg'],\n",
              " ['Image_179.jpg', '/content/content/asl_alphabets/train/Image_179.jpg'],\n",
              " ['Image_180.jpg', '/content/content/asl_alphabets/train/Image_180.jpg'],\n",
              " ['Image_181.jpg', '/content/content/asl_alphabets/train/Image_181.jpg'],\n",
              " ['Image_182.jpg', '/content/content/asl_alphabets/train/Image_182.jpg'],\n",
              " ['Image_183.jpg', '/content/content/asl_alphabets/train/Image_183.jpg'],\n",
              " ['Image_184.jpg', '/content/content/asl_alphabets/train/Image_184.jpg'],\n",
              " ['Image_185.jpg', '/content/content/asl_alphabets/train/Image_185.jpg'],\n",
              " ['Image_186.jpg', '/content/content/asl_alphabets/train/Image_186.jpg'],\n",
              " ['Image_187.jpg', '/content/content/asl_alphabets/train/Image_187.jpg'],\n",
              " ['Image_188.jpg', '/content/content/asl_alphabets/train/Image_188.jpg'],\n",
              " ['Image_189.jpg', '/content/content/asl_alphabets/train/Image_189.jpg'],\n",
              " ['Image_190.jpg', '/content/content/asl_alphabets/train/Image_190.jpg'],\n",
              " ['Image_191.jpg', '/content/content/asl_alphabets/train/Image_191.jpg'],\n",
              " ['Image_192.jpg', '/content/content/asl_alphabets/train/Image_192.jpg'],\n",
              " ['Image_193.jpg', '/content/content/asl_alphabets/train/Image_193.jpg'],\n",
              " ['Image_194.jpg', '/content/content/asl_alphabets/train/Image_194.jpg'],\n",
              " ['Image_195.jpg', '/content/content/asl_alphabets/train/Image_195.jpg'],\n",
              " ['Image_196.jpg', '/content/content/asl_alphabets/train/Image_196.jpg'],\n",
              " ['Image_197.jpg', '/content/content/asl_alphabets/train/Image_197.jpg'],\n",
              " ['Image_198.jpg', '/content/content/asl_alphabets/train/Image_198.jpg'],\n",
              " ['Image_199.jpg', '/content/content/asl_alphabets/train/Image_199.jpg'],\n",
              " ['Image_200.jpg', '/content/content/asl_alphabets/train/Image_200.jpg'],\n",
              " ['Image_201.jpg', '/content/content/asl_alphabets/train/Image_201.jpg'],\n",
              " ['Image_202.jpg', '/content/content/asl_alphabets/train/Image_202.jpg'],\n",
              " ['Image_203.jpg', '/content/content/asl_alphabets/train/Image_203.jpg'],\n",
              " ['Image_204.jpg', '/content/content/asl_alphabets/train/Image_204.jpg'],\n",
              " ['Image_205.jpg', '/content/content/asl_alphabets/train/Image_205.jpg'],\n",
              " ['Image_206.jpg', '/content/content/asl_alphabets/train/Image_206.jpg'],\n",
              " ['Image_207.jpg', '/content/content/asl_alphabets/train/Image_207.jpg'],\n",
              " ['Image_208.jpg', '/content/content/asl_alphabets/train/Image_208.jpg'],\n",
              " ['Image_209.jpg', '/content/content/asl_alphabets/train/Image_209.jpg'],\n",
              " ['Image_210.jpg', '/content/content/asl_alphabets/train/Image_210.jpg'],\n",
              " ['Image_211.jpg', '/content/content/asl_alphabets/train/Image_211.jpg'],\n",
              " ['Image_212.jpg', '/content/content/asl_alphabets/train/Image_212.jpg'],\n",
              " ['Image_213.jpg', '/content/content/asl_alphabets/train/Image_213.jpg'],\n",
              " ['Image_214.jpg', '/content/content/asl_alphabets/train/Image_214.jpg'],\n",
              " ['Image_215.jpg', '/content/content/asl_alphabets/train/Image_215.jpg'],\n",
              " ['Image_216.jpg', '/content/content/asl_alphabets/train/Image_216.jpg'],\n",
              " ['Image_217.jpg', '/content/content/asl_alphabets/train/Image_217.jpg'],\n",
              " ['Image_218.jpg', '/content/content/asl_alphabets/train/Image_218.jpg'],\n",
              " ['Image_219.jpg', '/content/content/asl_alphabets/train/Image_219.jpg'],\n",
              " ['Image_220.jpg', '/content/content/asl_alphabets/train/Image_220.jpg'],\n",
              " ['Image_221.jpg', '/content/content/asl_alphabets/train/Image_221.jpg'],\n",
              " ['Image_222.jpg', '/content/content/asl_alphabets/train/Image_222.jpg'],\n",
              " ['Image_223.jpg', '/content/content/asl_alphabets/train/Image_223.jpg'],\n",
              " ['Image_224.jpg', '/content/content/asl_alphabets/train/Image_224.jpg'],\n",
              " ['Image_225.jpg', '/content/content/asl_alphabets/train/Image_225.jpg'],\n",
              " ['Image_226.jpg', '/content/content/asl_alphabets/train/Image_226.jpg'],\n",
              " ['Image_227.jpg', '/content/content/asl_alphabets/train/Image_227.jpg'],\n",
              " ['Image_228.jpg', '/content/content/asl_alphabets/train/Image_228.jpg'],\n",
              " ['Image_229.jpg', '/content/content/asl_alphabets/train/Image_229.jpg'],\n",
              " ['Image_230.jpg', '/content/content/asl_alphabets/train/Image_230.jpg'],\n",
              " ['Image_231.jpg', '/content/content/asl_alphabets/train/Image_231.jpg'],\n",
              " ['Image_232.jpg', '/content/content/asl_alphabets/train/Image_232.jpg'],\n",
              " ['Image_233.jpg', '/content/content/asl_alphabets/train/Image_233.jpg'],\n",
              " ['Image_234.jpg', '/content/content/asl_alphabets/train/Image_234.jpg'],\n",
              " ['Image_235.jpg', '/content/content/asl_alphabets/train/Image_235.jpg'],\n",
              " ['Image_236.jpg', '/content/content/asl_alphabets/train/Image_236.jpg'],\n",
              " ['Image_237.jpg', '/content/content/asl_alphabets/train/Image_237.jpg'],\n",
              " ['Image_238.jpg', '/content/content/asl_alphabets/train/Image_238.jpg'],\n",
              " ['Image_239.jpg', '/content/content/asl_alphabets/train/Image_239.jpg'],\n",
              " ['Image_240.jpg', '/content/content/asl_alphabets/train/Image_240.jpg'],\n",
              " ['Image_241.jpg', '/content/content/asl_alphabets/train/Image_241.jpg'],\n",
              " ['Image_242.jpg', '/content/content/asl_alphabets/train/Image_242.jpg'],\n",
              " ['Image_243.jpg', '/content/content/asl_alphabets/train/Image_243.jpg'],\n",
              " ['Image_244.jpg', '/content/content/asl_alphabets/train/Image_244.jpg'],\n",
              " ['Image_245.jpg', '/content/content/asl_alphabets/train/Image_245.jpg'],\n",
              " ['Image_246.jpg', '/content/content/asl_alphabets/train/Image_246.jpg'],\n",
              " ['Image_247.jpg', '/content/content/asl_alphabets/train/Image_247.jpg'],\n",
              " ['Image_248.jpg', '/content/content/asl_alphabets/train/Image_248.jpg'],\n",
              " ['Image_249.jpg', '/content/content/asl_alphabets/train/Image_249.jpg'],\n",
              " ['Image_250.jpg', '/content/content/asl_alphabets/train/Image_250.jpg'],\n",
              " ['Image_251.jpg', '/content/content/asl_alphabets/train/Image_251.jpg'],\n",
              " ['Image_252.jpg', '/content/content/asl_alphabets/train/Image_252.jpg'],\n",
              " ['Image_253.jpg', '/content/content/asl_alphabets/train/Image_253.jpg'],\n",
              " ['Image_254.jpg', '/content/content/asl_alphabets/train/Image_254.jpg'],\n",
              " ['Image_255.jpg', '/content/content/asl_alphabets/train/Image_255.jpg'],\n",
              " ['Image_256.jpg', '/content/content/asl_alphabets/train/Image_256.jpg'],\n",
              " ['Image_257.jpg', '/content/content/asl_alphabets/train/Image_257.jpg'],\n",
              " ['Image_258.jpg', '/content/content/asl_alphabets/train/Image_258.jpg'],\n",
              " ['Image_259.jpg', '/content/content/asl_alphabets/train/Image_259.jpg'],\n",
              " ['Image_260.jpg', '/content/content/asl_alphabets/train/Image_260.jpg'],\n",
              " ['Image_261.jpg', '/content/content/asl_alphabets/train/Image_261.jpg'],\n",
              " ['Image_262.jpg', '/content/content/asl_alphabets/train/Image_262.jpg'],\n",
              " ['Image_263.jpg', '/content/content/asl_alphabets/train/Image_263.jpg'],\n",
              " ['Image_264.jpg', '/content/content/asl_alphabets/train/Image_264.jpg'],\n",
              " ['Image_265.jpg', '/content/content/asl_alphabets/train/Image_265.jpg'],\n",
              " ['Image_266.jpg', '/content/content/asl_alphabets/train/Image_266.jpg'],\n",
              " ['Image_267.jpg', '/content/content/asl_alphabets/train/Image_267.jpg'],\n",
              " ['Image_268.jpg', '/content/content/asl_alphabets/train/Image_268.jpg'],\n",
              " ['Image_269.jpg', '/content/content/asl_alphabets/train/Image_269.jpg'],\n",
              " ['Image_270.jpg', '/content/content/asl_alphabets/train/Image_270.jpg'],\n",
              " ['Image_271.jpg', '/content/content/asl_alphabets/train/Image_271.jpg'],\n",
              " ['Image_272.jpg', '/content/content/asl_alphabets/train/Image_272.jpg'],\n",
              " ['Image_273.jpg', '/content/content/asl_alphabets/train/Image_273.jpg'],\n",
              " ['Image_274.jpg', '/content/content/asl_alphabets/train/Image_274.jpg'],\n",
              " ['Image_275.jpg', '/content/content/asl_alphabets/train/Image_275.jpg'],\n",
              " ['Image_276.jpg', '/content/content/asl_alphabets/train/Image_276.jpg'],\n",
              " ['Image_277.jpg', '/content/content/asl_alphabets/train/Image_277.jpg'],\n",
              " ['Image_278.jpg', '/content/content/asl_alphabets/train/Image_278.jpg'],\n",
              " ['Image_279.jpg', '/content/content/asl_alphabets/train/Image_279.jpg'],\n",
              " ['Image_280.jpg', '/content/content/asl_alphabets/train/Image_280.jpg'],\n",
              " ['Image_281.jpg', '/content/content/asl_alphabets/train/Image_281.jpg'],\n",
              " ['Image_282.jpg', '/content/content/asl_alphabets/train/Image_282.jpg'],\n",
              " ['Image_283.jpg', '/content/content/asl_alphabets/train/Image_283.jpg'],\n",
              " ['Image_284.jpg', '/content/content/asl_alphabets/train/Image_284.jpg'],\n",
              " ['Image_285.jpg', '/content/content/asl_alphabets/train/Image_285.jpg'],\n",
              " ['Image_286.jpg', '/content/content/asl_alphabets/train/Image_286.jpg'],\n",
              " ['Image_287.jpg', '/content/content/asl_alphabets/train/Image_287.jpg'],\n",
              " ['Image_288.jpg', '/content/content/asl_alphabets/train/Image_288.jpg'],\n",
              " ['Image_289.jpg', '/content/content/asl_alphabets/train/Image_289.jpg'],\n",
              " ['Image_290.jpg', '/content/content/asl_alphabets/train/Image_290.jpg'],\n",
              " ['Image_291.jpg', '/content/content/asl_alphabets/train/Image_291.jpg'],\n",
              " ['Image_292.jpg', '/content/content/asl_alphabets/train/Image_292.jpg'],\n",
              " ['Image_293.jpg', '/content/content/asl_alphabets/train/Image_293.jpg'],\n",
              " ['Image_294.jpg', '/content/content/asl_alphabets/train/Image_294.jpg'],\n",
              " ['Image_295.jpg', '/content/content/asl_alphabets/train/Image_295.jpg'],\n",
              " ['Image_296.jpg', '/content/content/asl_alphabets/train/Image_296.jpg'],\n",
              " ['Image_297.jpg', '/content/content/asl_alphabets/train/Image_297.jpg'],\n",
              " ['Image_298.jpg', '/content/content/asl_alphabets/train/Image_298.jpg'],\n",
              " ['Image_299.jpg', '/content/content/asl_alphabets/train/Image_299.jpg'],\n",
              " ['Image_300.jpg', '/content/content/asl_alphabets/train/Image_300.jpg'],\n",
              " ['Image_301.jpg', '/content/content/asl_alphabets/train/Image_301.jpg'],\n",
              " ['Image_302.jpg', '/content/content/asl_alphabets/train/Image_302.jpg'],\n",
              " ['Image_303.jpg', '/content/content/asl_alphabets/train/Image_303.jpg'],\n",
              " ['Image_304.jpg', '/content/content/asl_alphabets/train/Image_304.jpg'],\n",
              " ['Image_305.jpg', '/content/content/asl_alphabets/train/Image_305.jpg'],\n",
              " ['Image_306.jpg', '/content/content/asl_alphabets/train/Image_306.jpg'],\n",
              " ['Image_307.jpg', '/content/content/asl_alphabets/train/Image_307.jpg'],\n",
              " ['Image_308.jpg', '/content/content/asl_alphabets/train/Image_308.jpg'],\n",
              " ['Image_309.jpg', '/content/content/asl_alphabets/train/Image_309.jpg'],\n",
              " ['Image_310.jpg', '/content/content/asl_alphabets/train/Image_310.jpg'],\n",
              " ['Image_311.jpg', '/content/content/asl_alphabets/train/Image_311.jpg'],\n",
              " ['Image_312.jpg', '/content/content/asl_alphabets/train/Image_312.jpg'],\n",
              " ['Image_313.jpg', '/content/content/asl_alphabets/train/Image_313.jpg'],\n",
              " ['Image_314.jpg', '/content/content/asl_alphabets/train/Image_314.jpg'],\n",
              " ['Image_315.jpg', '/content/content/asl_alphabets/train/Image_315.jpg'],\n",
              " ['Image_316.jpg', '/content/content/asl_alphabets/train/Image_316.jpg'],\n",
              " ['Image_317.jpg', '/content/content/asl_alphabets/train/Image_317.jpg'],\n",
              " ['Image_318.jpg', '/content/content/asl_alphabets/train/Image_318.jpg'],\n",
              " ['Image_319.jpg', '/content/content/asl_alphabets/train/Image_319.jpg'],\n",
              " ['Image_320.jpg', '/content/content/asl_alphabets/train/Image_320.jpg'],\n",
              " ['Image_321.jpg', '/content/content/asl_alphabets/train/Image_321.jpg'],\n",
              " ['Image_322.jpg', '/content/content/asl_alphabets/train/Image_322.jpg'],\n",
              " ['Image_323.jpg', '/content/content/asl_alphabets/train/Image_323.jpg'],\n",
              " ['Image_324.jpg', '/content/content/asl_alphabets/train/Image_324.jpg'],\n",
              " ['Image_325.jpg', '/content/content/asl_alphabets/train/Image_325.jpg'],\n",
              " ['Image_326.jpg', '/content/content/asl_alphabets/train/Image_326.jpg'],\n",
              " ['Image_327.jpg', '/content/content/asl_alphabets/train/Image_327.jpg'],\n",
              " ['Image_328.jpg', '/content/content/asl_alphabets/train/Image_328.jpg'],\n",
              " ['Image_329.jpg', '/content/content/asl_alphabets/train/Image_329.jpg'],\n",
              " ['Image_330.jpg', '/content/content/asl_alphabets/train/Image_330.jpg'],\n",
              " ['Image_331.jpg', '/content/content/asl_alphabets/train/Image_331.jpg'],\n",
              " ['Image_332.jpg', '/content/content/asl_alphabets/train/Image_332.jpg'],\n",
              " ['Image_333.jpg', '/content/content/asl_alphabets/train/Image_333.jpg'],\n",
              " ['Image_334.jpg', '/content/content/asl_alphabets/train/Image_334.jpg'],\n",
              " ['Image_335.jpg', '/content/content/asl_alphabets/train/Image_335.jpg'],\n",
              " ['Image_336.jpg', '/content/content/asl_alphabets/train/Image_336.jpg'],\n",
              " ['Image_337.jpg', '/content/content/asl_alphabets/train/Image_337.jpg'],\n",
              " ['Image_338.jpg', '/content/content/asl_alphabets/train/Image_338.jpg'],\n",
              " ['Image_339.jpg', '/content/content/asl_alphabets/train/Image_339.jpg'],\n",
              " ['Image_340.jpg', '/content/content/asl_alphabets/train/Image_340.jpg'],\n",
              " ['Image_341.jpg', '/content/content/asl_alphabets/train/Image_341.jpg'],\n",
              " ['Image_342.jpg', '/content/content/asl_alphabets/train/Image_342.jpg'],\n",
              " ['Image_343.jpg', '/content/content/asl_alphabets/train/Image_343.jpg'],\n",
              " ['Image_344.jpg', '/content/content/asl_alphabets/train/Image_344.jpg'],\n",
              " ['Image_345.jpg', '/content/content/asl_alphabets/train/Image_345.jpg'],\n",
              " ['Image_346.jpg', '/content/content/asl_alphabets/train/Image_346.jpg'],\n",
              " ['Image_347.jpg', '/content/content/asl_alphabets/train/Image_347.jpg'],\n",
              " ['Image_348.jpg', '/content/content/asl_alphabets/train/Image_348.jpg'],\n",
              " ['Image_349.jpg', '/content/content/asl_alphabets/train/Image_349.jpg'],\n",
              " ['Image_350.jpg', '/content/content/asl_alphabets/train/Image_350.jpg'],\n",
              " ['Image_351.jpg', '/content/content/asl_alphabets/train/Image_351.jpg'],\n",
              " ['Image_352.jpg', '/content/content/asl_alphabets/train/Image_352.jpg'],\n",
              " ['Image_353.jpg', '/content/content/asl_alphabets/train/Image_353.jpg'],\n",
              " ['Image_354.jpg', '/content/content/asl_alphabets/train/Image_354.jpg'],\n",
              " ['Image_355.jpg', '/content/content/asl_alphabets/train/Image_355.jpg'],\n",
              " ['Image_356.jpg', '/content/content/asl_alphabets/train/Image_356.jpg'],\n",
              " ['Image_357.jpg', '/content/content/asl_alphabets/train/Image_357.jpg'],\n",
              " ['Image_358.jpg', '/content/content/asl_alphabets/train/Image_358.jpg'],\n",
              " ['Image_359.jpg', '/content/content/asl_alphabets/train/Image_359.jpg'],\n",
              " ['Image_360.jpg', '/content/content/asl_alphabets/train/Image_360.jpg'],\n",
              " ['Image_361.jpg', '/content/content/asl_alphabets/train/Image_361.jpg'],\n",
              " ['Image_362.jpg', '/content/content/asl_alphabets/train/Image_362.jpg'],\n",
              " ['Image_363.jpg', '/content/content/asl_alphabets/train/Image_363.jpg'],\n",
              " ['Image_364.jpg', '/content/content/asl_alphabets/train/Image_364.jpg'],\n",
              " ['Image_365.jpg', '/content/content/asl_alphabets/train/Image_365.jpg'],\n",
              " ['Image_366.jpg', '/content/content/asl_alphabets/train/Image_366.jpg'],\n",
              " ['Image_367.jpg', '/content/content/asl_alphabets/train/Image_367.jpg'],\n",
              " ['Image_368.jpg', '/content/content/asl_alphabets/train/Image_368.jpg'],\n",
              " ['Image_369.jpg', '/content/content/asl_alphabets/train/Image_369.jpg'],\n",
              " ['Image_370.jpg', '/content/content/asl_alphabets/train/Image_370.jpg'],\n",
              " ['Image_371.jpg', '/content/content/asl_alphabets/train/Image_371.jpg'],\n",
              " ['Image_372.jpg', '/content/content/asl_alphabets/train/Image_372.jpg'],\n",
              " ['Image_373.jpg', '/content/content/asl_alphabets/train/Image_373.jpg'],\n",
              " ['Image_374.jpg', '/content/content/asl_alphabets/train/Image_374.jpg'],\n",
              " ['Image_375.jpg', '/content/content/asl_alphabets/train/Image_375.jpg'],\n",
              " ['Image_376.jpg', '/content/content/asl_alphabets/train/Image_376.jpg'],\n",
              " ['Image_377.jpg', '/content/content/asl_alphabets/train/Image_377.jpg'],\n",
              " ['Image_378.jpg', '/content/content/asl_alphabets/train/Image_378.jpg'],\n",
              " ['Image_379.jpg', '/content/content/asl_alphabets/train/Image_379.jpg'],\n",
              " ['Image_380.jpg', '/content/content/asl_alphabets/train/Image_380.jpg'],\n",
              " ['Image_381.jpg', '/content/content/asl_alphabets/train/Image_381.jpg'],\n",
              " ['Image_382.jpg', '/content/content/asl_alphabets/train/Image_382.jpg'],\n",
              " ['Image_383.jpg', '/content/content/asl_alphabets/train/Image_383.jpg'],\n",
              " ['Image_384.jpg', '/content/content/asl_alphabets/train/Image_384.jpg'],\n",
              " ['Image_385.jpg', '/content/content/asl_alphabets/train/Image_385.jpg'],\n",
              " ['Image_386.jpg', '/content/content/asl_alphabets/train/Image_386.jpg'],\n",
              " ['Image_387.jpg', '/content/content/asl_alphabets/train/Image_387.jpg'],\n",
              " ['Image_388.jpg', '/content/content/asl_alphabets/train/Image_388.jpg'],\n",
              " ['Image_389.jpg', '/content/content/asl_alphabets/train/Image_389.jpg'],\n",
              " ['Image_390.jpg', '/content/content/asl_alphabets/train/Image_390.jpg'],\n",
              " ['Image_391.jpg', '/content/content/asl_alphabets/train/Image_391.jpg'],\n",
              " ['Image_392.jpg', '/content/content/asl_alphabets/train/Image_392.jpg'],\n",
              " ['Image_393.jpg', '/content/content/asl_alphabets/train/Image_393.jpg'],\n",
              " ['Image_394.jpg', '/content/content/asl_alphabets/train/Image_394.jpg'],\n",
              " ['Image_395.jpg', '/content/content/asl_alphabets/train/Image_395.jpg'],\n",
              " ['Image_396.jpg', '/content/content/asl_alphabets/train/Image_396.jpg'],\n",
              " ['Image_397.jpg', '/content/content/asl_alphabets/train/Image_397.jpg'],\n",
              " ['Image_398.jpg', '/content/content/asl_alphabets/train/Image_398.jpg'],\n",
              " ['Image_399.jpg', '/content/content/asl_alphabets/train/Image_399.jpg'],\n",
              " ['Image_400.jpg', '/content/content/asl_alphabets/train/Image_400.jpg'],\n",
              " ['Image_401.jpg', '/content/content/asl_alphabets/train/Image_401.jpg'],\n",
              " ['Image_402.jpg', '/content/content/asl_alphabets/train/Image_402.jpg'],\n",
              " ['Image_403.jpg', '/content/content/asl_alphabets/train/Image_403.jpg'],\n",
              " ['Image_404.jpg', '/content/content/asl_alphabets/train/Image_404.jpg'],\n",
              " ['Image_405.jpg', '/content/content/asl_alphabets/train/Image_405.jpg'],\n",
              " ['Image_406.jpg', '/content/content/asl_alphabets/train/Image_406.jpg'],\n",
              " ['Image_407.jpg', '/content/content/asl_alphabets/train/Image_407.jpg'],\n",
              " ['Image_408.jpg', '/content/content/asl_alphabets/train/Image_408.jpg'],\n",
              " ['Image_409.jpg', '/content/content/asl_alphabets/train/Image_409.jpg'],\n",
              " ['Image_410.jpg', '/content/content/asl_alphabets/train/Image_410.jpg'],\n",
              " ['Image_411.jpg', '/content/content/asl_alphabets/train/Image_411.jpg'],\n",
              " ['Image_412.jpg', '/content/content/asl_alphabets/train/Image_412.jpg'],\n",
              " ['Image_413.jpg', '/content/content/asl_alphabets/train/Image_413.jpg'],\n",
              " ['Image_414.jpg', '/content/content/asl_alphabets/train/Image_414.jpg'],\n",
              " ['Image_415.jpg', '/content/content/asl_alphabets/train/Image_415.jpg'],\n",
              " ['Image_416.jpg', '/content/content/asl_alphabets/train/Image_416.jpg'],\n",
              " ['Image_417.jpg', '/content/content/asl_alphabets/train/Image_417.jpg'],\n",
              " ['Image_418.jpg', '/content/content/asl_alphabets/train/Image_418.jpg'],\n",
              " ['Image_419.jpg', '/content/content/asl_alphabets/train/Image_419.jpg'],\n",
              " ['Image_420.jpg', '/content/content/asl_alphabets/train/Image_420.jpg'],\n",
              " ['Image_421.jpg', '/content/content/asl_alphabets/train/Image_421.jpg'],\n",
              " ['Image_422.jpg', '/content/content/asl_alphabets/train/Image_422.jpg'],\n",
              " ['Image_423.jpg', '/content/content/asl_alphabets/train/Image_423.jpg'],\n",
              " ['Image_424.jpg', '/content/content/asl_alphabets/train/Image_424.jpg'],\n",
              " ['Image_425.jpg', '/content/content/asl_alphabets/train/Image_425.jpg'],\n",
              " ['Image_426.jpg', '/content/content/asl_alphabets/train/Image_426.jpg'],\n",
              " ['Image_427.jpg', '/content/content/asl_alphabets/train/Image_427.jpg'],\n",
              " ['Image_428.jpg', '/content/content/asl_alphabets/train/Image_428.jpg'],\n",
              " ['Image_429.jpg', '/content/content/asl_alphabets/train/Image_429.jpg'],\n",
              " ['Image_430.jpg', '/content/content/asl_alphabets/train/Image_430.jpg'],\n",
              " ['Image_431.jpg', '/content/content/asl_alphabets/train/Image_431.jpg'],\n",
              " ['Image_432.jpg', '/content/content/asl_alphabets/train/Image_432.jpg'],\n",
              " ['Image_433.jpg', '/content/content/asl_alphabets/train/Image_433.jpg'],\n",
              " ['Image_434.jpg', '/content/content/asl_alphabets/train/Image_434.jpg'],\n",
              " ['Image_435.jpg', '/content/content/asl_alphabets/train/Image_435.jpg'],\n",
              " ['Image_436.jpg', '/content/content/asl_alphabets/train/Image_436.jpg'],\n",
              " ['Image_437.jpg', '/content/content/asl_alphabets/train/Image_437.jpg'],\n",
              " ['Image_438.jpg', '/content/content/asl_alphabets/train/Image_438.jpg'],\n",
              " ['Image_439.jpg', '/content/content/asl_alphabets/train/Image_439.jpg'],\n",
              " ['Image_440.jpg', '/content/content/asl_alphabets/train/Image_440.jpg'],\n",
              " ['Image_441.jpg', '/content/content/asl_alphabets/train/Image_441.jpg'],\n",
              " ['Image_442.jpg', '/content/content/asl_alphabets/train/Image_442.jpg'],\n",
              " ['Image_443.jpg', '/content/content/asl_alphabets/train/Image_443.jpg'],\n",
              " ['Image_444.jpg', '/content/content/asl_alphabets/train/Image_444.jpg'],\n",
              " ['Image_445.jpg', '/content/content/asl_alphabets/train/Image_445.jpg'],\n",
              " ['Image_446.jpg', '/content/content/asl_alphabets/train/Image_446.jpg'],\n",
              " ['Image_447.jpg', '/content/content/asl_alphabets/train/Image_447.jpg'],\n",
              " ['Image_448.jpg', '/content/content/asl_alphabets/train/Image_448.jpg'],\n",
              " ['Image_449.jpg', '/content/content/asl_alphabets/train/Image_449.jpg'],\n",
              " ['Image_450.jpg', '/content/content/asl_alphabets/train/Image_450.jpg'],\n",
              " ['Image_451.jpg', '/content/content/asl_alphabets/train/Image_451.jpg'],\n",
              " ['Image_452.jpg', '/content/content/asl_alphabets/train/Image_452.jpg'],\n",
              " ['Image_453.jpg', '/content/content/asl_alphabets/train/Image_453.jpg'],\n",
              " ['Image_454.jpg', '/content/content/asl_alphabets/train/Image_454.jpg'],\n",
              " ['Image_455.jpg', '/content/content/asl_alphabets/train/Image_455.jpg'],\n",
              " ['Image_456.jpg', '/content/content/asl_alphabets/train/Image_456.jpg'],\n",
              " ['Image_457.jpg', '/content/content/asl_alphabets/train/Image_457.jpg'],\n",
              " ['Image_458.jpg', '/content/content/asl_alphabets/train/Image_458.jpg'],\n",
              " ['Image_459.jpg', '/content/content/asl_alphabets/train/Image_459.jpg'],\n",
              " ['Image_460.jpg', '/content/content/asl_alphabets/train/Image_460.jpg'],\n",
              " ['Image_461.jpg', '/content/content/asl_alphabets/train/Image_461.jpg'],\n",
              " ['Image_462.jpg', '/content/content/asl_alphabets/train/Image_462.jpg'],\n",
              " ['Image_463.jpg', '/content/content/asl_alphabets/train/Image_463.jpg'],\n",
              " ['Image_464.jpg', '/content/content/asl_alphabets/train/Image_464.jpg'],\n",
              " ['Image_465.jpg', '/content/content/asl_alphabets/train/Image_465.jpg'],\n",
              " ['Image_466.jpg', '/content/content/asl_alphabets/train/Image_466.jpg'],\n",
              " ['Image_467.jpg', '/content/content/asl_alphabets/train/Image_467.jpg'],\n",
              " ['Image_468.jpg', '/content/content/asl_alphabets/train/Image_468.jpg'],\n",
              " ['Image_469.jpg', '/content/content/asl_alphabets/train/Image_469.jpg'],\n",
              " ['Image_470.jpg', '/content/content/asl_alphabets/train/Image_470.jpg'],\n",
              " ['Image_471.jpg', '/content/content/asl_alphabets/train/Image_471.jpg'],\n",
              " ['Image_472.jpg', '/content/content/asl_alphabets/train/Image_472.jpg'],\n",
              " ['Image_473.jpg', '/content/content/asl_alphabets/train/Image_473.jpg'],\n",
              " ['Image_474.jpg', '/content/content/asl_alphabets/train/Image_474.jpg'],\n",
              " ['Image_475.jpg', '/content/content/asl_alphabets/train/Image_475.jpg'],\n",
              " ['Image_476.jpg', '/content/content/asl_alphabets/train/Image_476.jpg'],\n",
              " ['Image_477.jpg', '/content/content/asl_alphabets/train/Image_477.jpg'],\n",
              " ['Image_478.jpg', '/content/content/asl_alphabets/train/Image_478.jpg'],\n",
              " ['Image_479.jpg', '/content/content/asl_alphabets/train/Image_479.jpg'],\n",
              " ['Image_480.jpg', '/content/content/asl_alphabets/train/Image_480.jpg'],\n",
              " ['Image_481.jpg', '/content/content/asl_alphabets/train/Image_481.jpg'],\n",
              " ['Image_482.jpg', '/content/content/asl_alphabets/train/Image_482.jpg'],\n",
              " ['Image_483.jpg', '/content/content/asl_alphabets/train/Image_483.jpg'],\n",
              " ['Image_484.jpg', '/content/content/asl_alphabets/train/Image_484.jpg'],\n",
              " ['Image_485.jpg', '/content/content/asl_alphabets/train/Image_485.jpg'],\n",
              " ['Image_486.jpg', '/content/content/asl_alphabets/train/Image_486.jpg'],\n",
              " ['Image_487.jpg', '/content/content/asl_alphabets/train/Image_487.jpg'],\n",
              " ['Image_488.jpg', '/content/content/asl_alphabets/train/Image_488.jpg'],\n",
              " ['Image_489.jpg', '/content/content/asl_alphabets/train/Image_489.jpg'],\n",
              " ['Image_490.jpg', '/content/content/asl_alphabets/train/Image_490.jpg'],\n",
              " ['Image_491.jpg', '/content/content/asl_alphabets/train/Image_491.jpg'],\n",
              " ['Image_492.jpg', '/content/content/asl_alphabets/train/Image_492.jpg'],\n",
              " ['Image_493.jpg', '/content/content/asl_alphabets/train/Image_493.jpg'],\n",
              " ['Image_494.jpg', '/content/content/asl_alphabets/train/Image_494.jpg'],\n",
              " ['Image_495.jpg', '/content/content/asl_alphabets/train/Image_495.jpg'],\n",
              " ['Image_496.jpg', '/content/content/asl_alphabets/train/Image_496.jpg'],\n",
              " ['Image_497.jpg', '/content/content/asl_alphabets/train/Image_497.jpg'],\n",
              " ['Image_498.jpg', '/content/content/asl_alphabets/train/Image_498.jpg'],\n",
              " ['Image_499.jpg', '/content/content/asl_alphabets/train/Image_499.jpg'],\n",
              " ['Image_500.jpg', '/content/content/asl_alphabets/train/Image_500.jpg'],\n",
              " ['Image_501.jpg', '/content/content/asl_alphabets/train/Image_501.jpg'],\n",
              " ['Image_502.jpg', '/content/content/asl_alphabets/train/Image_502.jpg'],\n",
              " ['Image_503.jpg', '/content/content/asl_alphabets/train/Image_503.jpg'],\n",
              " ['Image_504.jpg', '/content/content/asl_alphabets/train/Image_504.jpg'],\n",
              " ['Image_505.jpg', '/content/content/asl_alphabets/train/Image_505.jpg'],\n",
              " ['Image_506.jpg', '/content/content/asl_alphabets/train/Image_506.jpg'],\n",
              " ['Image_507.jpg', '/content/content/asl_alphabets/train/Image_507.jpg'],\n",
              " ['Image_508.jpg', '/content/content/asl_alphabets/train/Image_508.jpg'],\n",
              " ['Image_509.jpg', '/content/content/asl_alphabets/train/Image_509.jpg'],\n",
              " ['Image_510.jpg', '/content/content/asl_alphabets/train/Image_510.jpg'],\n",
              " ['Image_511.jpg', '/content/content/asl_alphabets/train/Image_511.jpg'],\n",
              " ['Image_512.jpg', '/content/content/asl_alphabets/train/Image_512.jpg'],\n",
              " ['Image_513.jpg', '/content/content/asl_alphabets/train/Image_513.jpg'],\n",
              " ['Image_514.jpg', '/content/content/asl_alphabets/train/Image_514.jpg'],\n",
              " ['Image_515.jpg', '/content/content/asl_alphabets/train/Image_515.jpg'],\n",
              " ['Image_516.jpg', '/content/content/asl_alphabets/train/Image_516.jpg'],\n",
              " ['Image_517.jpg', '/content/content/asl_alphabets/train/Image_517.jpg'],\n",
              " ['Image_518.jpg', '/content/content/asl_alphabets/train/Image_518.jpg'],\n",
              " ['Image_519.jpg', '/content/content/asl_alphabets/train/Image_519.jpg'],\n",
              " ['Image_520.jpg', '/content/content/asl_alphabets/train/Image_520.jpg'],\n",
              " ['Image_521.jpg', '/content/content/asl_alphabets/train/Image_521.jpg'],\n",
              " ['Image_522.jpg', '/content/content/asl_alphabets/train/Image_522.jpg'],\n",
              " ['Image_523.jpg', '/content/content/asl_alphabets/train/Image_523.jpg'],\n",
              " ['Image_524.jpg', '/content/content/asl_alphabets/train/Image_524.jpg'],\n",
              " ['Image_525.jpg', '/content/content/asl_alphabets/train/Image_525.jpg'],\n",
              " ['Image_526.jpg', '/content/content/asl_alphabets/train/Image_526.jpg'],\n",
              " ['Image_527.jpg', '/content/content/asl_alphabets/train/Image_527.jpg'],\n",
              " ['Image_528.jpg', '/content/content/asl_alphabets/train/Image_528.jpg'],\n",
              " ['Image_529.jpg', '/content/content/asl_alphabets/train/Image_529.jpg'],\n",
              " ['Image_530.jpg', '/content/content/asl_alphabets/train/Image_530.jpg'],\n",
              " ['Image_531.jpg', '/content/content/asl_alphabets/train/Image_531.jpg'],\n",
              " ['Image_532.jpg', '/content/content/asl_alphabets/train/Image_532.jpg'],\n",
              " ['Image_533.jpg', '/content/content/asl_alphabets/train/Image_533.jpg'],\n",
              " ['Image_534.jpg', '/content/content/asl_alphabets/train/Image_534.jpg'],\n",
              " ['Image_535.jpg', '/content/content/asl_alphabets/train/Image_535.jpg'],\n",
              " ['Image_536.jpg', '/content/content/asl_alphabets/train/Image_536.jpg'],\n",
              " ['Image_537.jpg', '/content/content/asl_alphabets/train/Image_537.jpg'],\n",
              " ['Image_538.jpg', '/content/content/asl_alphabets/train/Image_538.jpg'],\n",
              " ['Image_539.jpg', '/content/content/asl_alphabets/train/Image_539.jpg'],\n",
              " ['Image_540.jpg', '/content/content/asl_alphabets/train/Image_540.jpg'],\n",
              " ['Image_541.jpg', '/content/content/asl_alphabets/train/Image_541.jpg'],\n",
              " ['Image_542.jpg', '/content/content/asl_alphabets/train/Image_542.jpg'],\n",
              " ['Image_543.jpg', '/content/content/asl_alphabets/train/Image_543.jpg'],\n",
              " ['Image_544.jpg', '/content/content/asl_alphabets/train/Image_544.jpg'],\n",
              " ['Image_545.jpg', '/content/content/asl_alphabets/train/Image_545.jpg'],\n",
              " ['Image_546.jpg', '/content/content/asl_alphabets/train/Image_546.jpg'],\n",
              " ['Image_547.jpg', '/content/content/asl_alphabets/train/Image_547.jpg'],\n",
              " ['Image_548.jpg', '/content/content/asl_alphabets/train/Image_548.jpg'],\n",
              " ['Image_549.jpg', '/content/content/asl_alphabets/train/Image_549.jpg'],\n",
              " ['Image_550.jpg', '/content/content/asl_alphabets/train/Image_550.jpg'],\n",
              " ['Image_551.jpg', '/content/content/asl_alphabets/train/Image_551.jpg'],\n",
              " ['Image_552.jpg', '/content/content/asl_alphabets/train/Image_552.jpg'],\n",
              " ['Image_553.jpg', '/content/content/asl_alphabets/train/Image_553.jpg'],\n",
              " ['Image_554.jpg', '/content/content/asl_alphabets/train/Image_554.jpg'],\n",
              " ['Image_555.jpg', '/content/content/asl_alphabets/train/Image_555.jpg'],\n",
              " ['Image_556.jpg', '/content/content/asl_alphabets/train/Image_556.jpg'],\n",
              " ['Image_557.jpg', '/content/content/asl_alphabets/train/Image_557.jpg'],\n",
              " ['Image_558.jpg', '/content/content/asl_alphabets/train/Image_558.jpg'],\n",
              " ['Image_559.jpg', '/content/content/asl_alphabets/train/Image_559.jpg'],\n",
              " ['Image_560.jpg', '/content/content/asl_alphabets/train/Image_560.jpg'],\n",
              " ['Image_561.jpg', '/content/content/asl_alphabets/train/Image_561.jpg'],\n",
              " ['Image_562.jpg', '/content/content/asl_alphabets/train/Image_562.jpg'],\n",
              " ['Image_563.jpg', '/content/content/asl_alphabets/train/Image_563.jpg'],\n",
              " ['Image_564.jpg', '/content/content/asl_alphabets/train/Image_564.jpg'],\n",
              " ['Image_565.jpg', '/content/content/asl_alphabets/train/Image_565.jpg'],\n",
              " ['Image_566.jpg', '/content/content/asl_alphabets/train/Image_566.jpg'],\n",
              " ['Image_567.jpg', '/content/content/asl_alphabets/train/Image_567.jpg'],\n",
              " ['Image_568.jpg', '/content/content/asl_alphabets/train/Image_568.jpg'],\n",
              " ['Image_569.jpg', '/content/content/asl_alphabets/train/Image_569.jpg'],\n",
              " ['Image_570.jpg', '/content/content/asl_alphabets/train/Image_570.jpg'],\n",
              " ['Image_571.jpg', '/content/content/asl_alphabets/train/Image_571.jpg'],\n",
              " ['Image_572.jpg', '/content/content/asl_alphabets/train/Image_572.jpg'],\n",
              " ['Image_573.jpg', '/content/content/asl_alphabets/train/Image_573.jpg'],\n",
              " ['Image_574.jpg', '/content/content/asl_alphabets/train/Image_574.jpg'],\n",
              " ['Image_575.jpg', '/content/content/asl_alphabets/train/Image_575.jpg'],\n",
              " ['Image_576.jpg', '/content/content/asl_alphabets/train/Image_576.jpg'],\n",
              " ['Image_577.jpg', '/content/content/asl_alphabets/train/Image_577.jpg'],\n",
              " ['Image_578.jpg', '/content/content/asl_alphabets/train/Image_578.jpg'],\n",
              " ['Image_579.jpg', '/content/content/asl_alphabets/train/Image_579.jpg'],\n",
              " ['Image_580.jpg', '/content/content/asl_alphabets/train/Image_580.jpg'],\n",
              " ['Image_581.jpg', '/content/content/asl_alphabets/train/Image_581.jpg'],\n",
              " ['Image_582.jpg', '/content/content/asl_alphabets/train/Image_582.jpg'],\n",
              " ['Image_583.jpg', '/content/content/asl_alphabets/train/Image_583.jpg'],\n",
              " ['Image_584.jpg', '/content/content/asl_alphabets/train/Image_584.jpg'],\n",
              " ['Image_585.jpg', '/content/content/asl_alphabets/train/Image_585.jpg'],\n",
              " ['Image_586.jpg', '/content/content/asl_alphabets/train/Image_586.jpg'],\n",
              " ['Image_587.jpg', '/content/content/asl_alphabets/train/Image_587.jpg'],\n",
              " ['Image_588.jpg', '/content/content/asl_alphabets/train/Image_588.jpg'],\n",
              " ['Image_589.jpg', '/content/content/asl_alphabets/train/Image_589.jpg'],\n",
              " ['Image_590.jpg', '/content/content/asl_alphabets/train/Image_590.jpg'],\n",
              " ['Image_591.jpg', '/content/content/asl_alphabets/train/Image_591.jpg'],\n",
              " ['Image_592.jpg', '/content/content/asl_alphabets/train/Image_592.jpg'],\n",
              " ['Image_593.jpg', '/content/content/asl_alphabets/train/Image_593.jpg'],\n",
              " ['Image_594.jpg', '/content/content/asl_alphabets/train/Image_594.jpg'],\n",
              " ['Image_595.jpg', '/content/content/asl_alphabets/train/Image_595.jpg'],\n",
              " ['Image_596.jpg', '/content/content/asl_alphabets/train/Image_596.jpg'],\n",
              " ['Image_597.jpg', '/content/content/asl_alphabets/train/Image_597.jpg'],\n",
              " ['Image_598.jpg', '/content/content/asl_alphabets/train/Image_598.jpg'],\n",
              " ['Image_599.jpg', '/content/content/asl_alphabets/train/Image_599.jpg'],\n",
              " ['Image_600.jpg', '/content/content/asl_alphabets/train/Image_600.jpg'],\n",
              " ['Image_601.jpg', '/content/content/asl_alphabets/train/Image_601.jpg'],\n",
              " ['Image_602.jpg', '/content/content/asl_alphabets/train/Image_602.jpg'],\n",
              " ['Image_603.jpg', '/content/content/asl_alphabets/train/Image_603.jpg'],\n",
              " ['Image_604.jpg', '/content/content/asl_alphabets/train/Image_604.jpg'],\n",
              " ['Image_605.jpg', '/content/content/asl_alphabets/train/Image_605.jpg'],\n",
              " ['Image_606.jpg', '/content/content/asl_alphabets/train/Image_606.jpg'],\n",
              " ['Image_607.jpg', '/content/content/asl_alphabets/train/Image_607.jpg'],\n",
              " ['Image_608.jpg', '/content/content/asl_alphabets/train/Image_608.jpg'],\n",
              " ['Image_609.jpg', '/content/content/asl_alphabets/train/Image_609.jpg'],\n",
              " ['Image_610.jpg', '/content/content/asl_alphabets/train/Image_610.jpg'],\n",
              " ['Image_611.jpg', '/content/content/asl_alphabets/train/Image_611.jpg'],\n",
              " ['Image_612.jpg', '/content/content/asl_alphabets/train/Image_612.jpg'],\n",
              " ['Image_613.jpg', '/content/content/asl_alphabets/train/Image_613.jpg'],\n",
              " ['Image_614.jpg', '/content/content/asl_alphabets/train/Image_614.jpg'],\n",
              " ['Image_615.jpg', '/content/content/asl_alphabets/train/Image_615.jpg'],\n",
              " ['Image_616.jpg', '/content/content/asl_alphabets/train/Image_616.jpg'],\n",
              " ['Image_617.jpg', '/content/content/asl_alphabets/train/Image_617.jpg'],\n",
              " ['Image_618.jpg', '/content/content/asl_alphabets/train/Image_618.jpg'],\n",
              " ['Image_619.jpg', '/content/content/asl_alphabets/train/Image_619.jpg'],\n",
              " ['Image_620.jpg', '/content/content/asl_alphabets/train/Image_620.jpg'],\n",
              " ['Image_621.jpg', '/content/content/asl_alphabets/train/Image_621.jpg'],\n",
              " ['Image_622.jpg', '/content/content/asl_alphabets/train/Image_622.jpg'],\n",
              " ['Image_623.jpg', '/content/content/asl_alphabets/train/Image_623.jpg'],\n",
              " ['Image_624.jpg', '/content/content/asl_alphabets/train/Image_624.jpg'],\n",
              " ['Image_625.jpg', '/content/content/asl_alphabets/train/Image_625.jpg'],\n",
              " ['Image_626.jpg', '/content/content/asl_alphabets/train/Image_626.jpg'],\n",
              " ['Image_627.jpg', '/content/content/asl_alphabets/train/Image_627.jpg'],\n",
              " ['Image_628.jpg', '/content/content/asl_alphabets/train/Image_628.jpg'],\n",
              " ['Image_629.jpg', '/content/content/asl_alphabets/train/Image_629.jpg'],\n",
              " ['Image_630.jpg', '/content/content/asl_alphabets/train/Image_630.jpg'],\n",
              " ['Image_631.jpg', '/content/content/asl_alphabets/train/Image_631.jpg'],\n",
              " ['Image_632.jpg', '/content/content/asl_alphabets/train/Image_632.jpg'],\n",
              " ['Image_633.jpg', '/content/content/asl_alphabets/train/Image_633.jpg'],\n",
              " ['Image_634.jpg', '/content/content/asl_alphabets/train/Image_634.jpg'],\n",
              " ['Image_635.jpg', '/content/content/asl_alphabets/train/Image_635.jpg'],\n",
              " ['Image_636.jpg', '/content/content/asl_alphabets/train/Image_636.jpg'],\n",
              " ['Image_637.jpg', '/content/content/asl_alphabets/train/Image_637.jpg'],\n",
              " ['Image_638.jpg', '/content/content/asl_alphabets/train/Image_638.jpg'],\n",
              " ['Image_639.jpg', '/content/content/asl_alphabets/train/Image_639.jpg'],\n",
              " ['Image_640.jpg', '/content/content/asl_alphabets/train/Image_640.jpg'],\n",
              " ['Image_641.jpg', '/content/content/asl_alphabets/train/Image_641.jpg'],\n",
              " ['Image_642.jpg', '/content/content/asl_alphabets/train/Image_642.jpg'],\n",
              " ['Image_643.jpg', '/content/content/asl_alphabets/train/Image_643.jpg'],\n",
              " ['Image_644.jpg', '/content/content/asl_alphabets/train/Image_644.jpg'],\n",
              " ['Image_645.jpg', '/content/content/asl_alphabets/train/Image_645.jpg'],\n",
              " ['Image_646.jpg', '/content/content/asl_alphabets/train/Image_646.jpg'],\n",
              " ['Image_647.jpg', '/content/content/asl_alphabets/train/Image_647.jpg'],\n",
              " ['Image_648.jpg', '/content/content/asl_alphabets/train/Image_648.jpg'],\n",
              " ['Image_649.jpg', '/content/content/asl_alphabets/train/Image_649.jpg'],\n",
              " ['Image_650.jpg', '/content/content/asl_alphabets/train/Image_650.jpg'],\n",
              " ['Image_651.jpg', '/content/content/asl_alphabets/train/Image_651.jpg'],\n",
              " ['Image_652.jpg', '/content/content/asl_alphabets/train/Image_652.jpg'],\n",
              " ['Image_653.jpg', '/content/content/asl_alphabets/train/Image_653.jpg'],\n",
              " ['Image_654.jpg', '/content/content/asl_alphabets/train/Image_654.jpg'],\n",
              " ['Image_655.jpg', '/content/content/asl_alphabets/train/Image_655.jpg'],\n",
              " ['Image_656.jpg', '/content/content/asl_alphabets/train/Image_656.jpg'],\n",
              " ['Image_657.jpg', '/content/content/asl_alphabets/train/Image_657.jpg'],\n",
              " ['Image_658.jpg', '/content/content/asl_alphabets/train/Image_658.jpg'],\n",
              " ['Image_659.jpg', '/content/content/asl_alphabets/train/Image_659.jpg'],\n",
              " ['Image_660.jpg', '/content/content/asl_alphabets/train/Image_660.jpg'],\n",
              " ['Image_661.jpg', '/content/content/asl_alphabets/train/Image_661.jpg'],\n",
              " ['Image_662.jpg', '/content/content/asl_alphabets/train/Image_662.jpg'],\n",
              " ['Image_663.jpg', '/content/content/asl_alphabets/train/Image_663.jpg'],\n",
              " ['Image_664.jpg', '/content/content/asl_alphabets/train/Image_664.jpg'],\n",
              " ['Image_665.jpg', '/content/content/asl_alphabets/train/Image_665.jpg'],\n",
              " ['Image_666.jpg', '/content/content/asl_alphabets/train/Image_666.jpg'],\n",
              " ['Image_667.jpg', '/content/content/asl_alphabets/train/Image_667.jpg'],\n",
              " ['Image_668.jpg', '/content/content/asl_alphabets/train/Image_668.jpg'],\n",
              " ['Image_669.jpg', '/content/content/asl_alphabets/train/Image_669.jpg'],\n",
              " ['Image_670.jpg', '/content/content/asl_alphabets/train/Image_670.jpg'],\n",
              " ['Image_671.jpg', '/content/content/asl_alphabets/train/Image_671.jpg'],\n",
              " ['Image_672.jpg', '/content/content/asl_alphabets/train/Image_672.jpg'],\n",
              " ['Image_673.jpg', '/content/content/asl_alphabets/train/Image_673.jpg'],\n",
              " ['Image_674.jpg', '/content/content/asl_alphabets/train/Image_674.jpg'],\n",
              " ['Image_675.jpg', '/content/content/asl_alphabets/train/Image_675.jpg'],\n",
              " ['Image_676.jpg', '/content/content/asl_alphabets/train/Image_676.jpg'],\n",
              " ['Image_677.jpg', '/content/content/asl_alphabets/train/Image_677.jpg'],\n",
              " ['Image_678.jpg', '/content/content/asl_alphabets/train/Image_678.jpg'],\n",
              " ['Image_679.jpg', '/content/content/asl_alphabets/train/Image_679.jpg'],\n",
              " ['Image_680.jpg', '/content/content/asl_alphabets/train/Image_680.jpg'],\n",
              " ['Image_681.jpg', '/content/content/asl_alphabets/train/Image_681.jpg'],\n",
              " ['Image_682.jpg', '/content/content/asl_alphabets/train/Image_682.jpg'],\n",
              " ['Image_683.jpg', '/content/content/asl_alphabets/train/Image_683.jpg'],\n",
              " ['Image_684.jpg', '/content/content/asl_alphabets/train/Image_684.jpg'],\n",
              " ['Image_685.jpg', '/content/content/asl_alphabets/train/Image_685.jpg'],\n",
              " ['Image_686.jpg', '/content/content/asl_alphabets/train/Image_686.jpg'],\n",
              " ['Image_687.jpg', '/content/content/asl_alphabets/train/Image_687.jpg'],\n",
              " ['Image_688.jpg', '/content/content/asl_alphabets/train/Image_688.jpg'],\n",
              " ['Image_689.jpg', '/content/content/asl_alphabets/train/Image_689.jpg'],\n",
              " ['Image_690.jpg', '/content/content/asl_alphabets/train/Image_690.jpg'],\n",
              " ['Image_691.jpg', '/content/content/asl_alphabets/train/Image_691.jpg'],\n",
              " ['Image_692.jpg', '/content/content/asl_alphabets/train/Image_692.jpg'],\n",
              " ['Image_693.jpg', '/content/content/asl_alphabets/train/Image_693.jpg'],\n",
              " ['Image_694.jpg', '/content/content/asl_alphabets/train/Image_694.jpg'],\n",
              " ['Image_695.jpg', '/content/content/asl_alphabets/train/Image_695.jpg'],\n",
              " ['Image_696.jpg', '/content/content/asl_alphabets/train/Image_696.jpg'],\n",
              " ['Image_697.jpg', '/content/content/asl_alphabets/train/Image_697.jpg'],\n",
              " ['Image_698.jpg', '/content/content/asl_alphabets/train/Image_698.jpg'],\n",
              " ['Image_699.jpg', '/content/content/asl_alphabets/train/Image_699.jpg'],\n",
              " ['Image_700.jpg', '/content/content/asl_alphabets/train/Image_700.jpg'],\n",
              " ['Image_701.jpg', '/content/content/asl_alphabets/train/Image_701.jpg'],\n",
              " ['Image_702.jpg', '/content/content/asl_alphabets/train/Image_702.jpg'],\n",
              " ['Image_703.jpg', '/content/content/asl_alphabets/train/Image_703.jpg'],\n",
              " ['Image_704.jpg', '/content/content/asl_alphabets/train/Image_704.jpg'],\n",
              " ['Image_705.jpg', '/content/content/asl_alphabets/train/Image_705.jpg'],\n",
              " ['Image_706.jpg', '/content/content/asl_alphabets/train/Image_706.jpg'],\n",
              " ['Image_707.jpg', '/content/content/asl_alphabets/train/Image_707.jpg'],\n",
              " ['Image_708.jpg', '/content/content/asl_alphabets/train/Image_708.jpg'],\n",
              " ['Image_709.jpg', '/content/content/asl_alphabets/train/Image_709.jpg'],\n",
              " ['Image_710.jpg', '/content/content/asl_alphabets/train/Image_710.jpg'],\n",
              " ['Image_711.jpg', '/content/content/asl_alphabets/train/Image_711.jpg'],\n",
              " ['Image_712.jpg', '/content/content/asl_alphabets/train/Image_712.jpg'],\n",
              " ['Image_713.jpg', '/content/content/asl_alphabets/train/Image_713.jpg'],\n",
              " ['Image_714.jpg', '/content/content/asl_alphabets/train/Image_714.jpg'],\n",
              " ['Image_715.jpg', '/content/content/asl_alphabets/train/Image_715.jpg'],\n",
              " ['Image_716.jpg', '/content/content/asl_alphabets/train/Image_716.jpg'],\n",
              " ['Image_717.jpg', '/content/content/asl_alphabets/train/Image_717.jpg'],\n",
              " ['Image_718.jpg', '/content/content/asl_alphabets/train/Image_718.jpg'],\n",
              " ['Image_719.jpg', '/content/content/asl_alphabets/train/Image_719.jpg'],\n",
              " ['Image_720.jpg', '/content/content/asl_alphabets/train/Image_720.jpg'],\n",
              " ['Image_721.jpg', '/content/content/asl_alphabets/train/Image_721.jpg'],\n",
              " ['Image_722.jpg', '/content/content/asl_alphabets/train/Image_722.jpg'],\n",
              " ['Image_723.jpg', '/content/content/asl_alphabets/train/Image_723.jpg'],\n",
              " ['Image_724.jpg', '/content/content/asl_alphabets/train/Image_724.jpg'],\n",
              " ['Image_725.jpg', '/content/content/asl_alphabets/train/Image_725.jpg'],\n",
              " ['Image_726.jpg', '/content/content/asl_alphabets/train/Image_726.jpg'],\n",
              " ['Image_727.jpg', '/content/content/asl_alphabets/train/Image_727.jpg'],\n",
              " ['Image_728.jpg', '/content/content/asl_alphabets/train/Image_728.jpg'],\n",
              " ['Image_729.jpg', '/content/content/asl_alphabets/train/Image_729.jpg'],\n",
              " ['Image_730.jpg', '/content/content/asl_alphabets/train/Image_730.jpg'],\n",
              " ['Image_731.jpg', '/content/content/asl_alphabets/train/Image_731.jpg'],\n",
              " ['Image_732.jpg', '/content/content/asl_alphabets/train/Image_732.jpg'],\n",
              " ['Image_733.jpg', '/content/content/asl_alphabets/train/Image_733.jpg'],\n",
              " ['Image_734.jpg', '/content/content/asl_alphabets/train/Image_734.jpg'],\n",
              " ['Image_735.jpg', '/content/content/asl_alphabets/train/Image_735.jpg'],\n",
              " ['Image_736.jpg', '/content/content/asl_alphabets/train/Image_736.jpg'],\n",
              " ['Image_737.jpg', '/content/content/asl_alphabets/train/Image_737.jpg'],\n",
              " ['Image_738.jpg', '/content/content/asl_alphabets/train/Image_738.jpg'],\n",
              " ['Image_739.jpg', '/content/content/asl_alphabets/train/Image_739.jpg'],\n",
              " ['Image_740.jpg', '/content/content/asl_alphabets/train/Image_740.jpg'],\n",
              " ['Image_741.jpg', '/content/content/asl_alphabets/train/Image_741.jpg'],\n",
              " ['Image_742.jpg', '/content/content/asl_alphabets/train/Image_742.jpg'],\n",
              " ['Image_743.jpg', '/content/content/asl_alphabets/train/Image_743.jpg'],\n",
              " ['Image_744.jpg', '/content/content/asl_alphabets/train/Image_744.jpg'],\n",
              " ['Image_745.jpg', '/content/content/asl_alphabets/train/Image_745.jpg'],\n",
              " ['Image_746.jpg', '/content/content/asl_alphabets/train/Image_746.jpg'],\n",
              " ['Image_747.jpg', '/content/content/asl_alphabets/train/Image_747.jpg'],\n",
              " ['Image_748.jpg', '/content/content/asl_alphabets/train/Image_748.jpg'],\n",
              " ['Image_749.jpg', '/content/content/asl_alphabets/train/Image_749.jpg'],\n",
              " ['Image_750.jpg', '/content/content/asl_alphabets/train/Image_750.jpg'],\n",
              " ['Image_751.jpg', '/content/content/asl_alphabets/train/Image_751.jpg'],\n",
              " ['Image_752.jpg', '/content/content/asl_alphabets/train/Image_752.jpg'],\n",
              " ['Image_753.jpg', '/content/content/asl_alphabets/train/Image_753.jpg'],\n",
              " ['Image_754.jpg', '/content/content/asl_alphabets/train/Image_754.jpg'],\n",
              " ['Image_755.jpg', '/content/content/asl_alphabets/train/Image_755.jpg'],\n",
              " ['Image_756.jpg', '/content/content/asl_alphabets/train/Image_756.jpg'],\n",
              " ['Image_757.jpg', '/content/content/asl_alphabets/train/Image_757.jpg'],\n",
              " ['Image_758.jpg', '/content/content/asl_alphabets/train/Image_758.jpg'],\n",
              " ['Image_759.jpg', '/content/content/asl_alphabets/train/Image_759.jpg'],\n",
              " ['Image_760.jpg', '/content/content/asl_alphabets/train/Image_760.jpg'],\n",
              " ['Image_761.jpg', '/content/content/asl_alphabets/train/Image_761.jpg'],\n",
              " ['Image_762.jpg', '/content/content/asl_alphabets/train/Image_762.jpg'],\n",
              " ['Image_763.jpg', '/content/content/asl_alphabets/train/Image_763.jpg'],\n",
              " ['Image_764.jpg', '/content/content/asl_alphabets/train/Image_764.jpg'],\n",
              " ['Image_765.jpg', '/content/content/asl_alphabets/train/Image_765.jpg'],\n",
              " ['Image_766.jpg', '/content/content/asl_alphabets/train/Image_766.jpg'],\n",
              " ['Image_767.jpg', '/content/content/asl_alphabets/train/Image_767.jpg'],\n",
              " ['Image_768.jpg', '/content/content/asl_alphabets/train/Image_768.jpg'],\n",
              " ['Image_769.jpg', '/content/content/asl_alphabets/train/Image_769.jpg'],\n",
              " ['Image_770.jpg', '/content/content/asl_alphabets/train/Image_770.jpg'],\n",
              " ['Image_771.jpg', '/content/content/asl_alphabets/train/Image_771.jpg'],\n",
              " ['Image_772.jpg', '/content/content/asl_alphabets/train/Image_772.jpg'],\n",
              " ['Image_773.jpg', '/content/content/asl_alphabets/train/Image_773.jpg'],\n",
              " ['Image_774.jpg', '/content/content/asl_alphabets/train/Image_774.jpg'],\n",
              " ['Image_775.jpg', '/content/content/asl_alphabets/train/Image_775.jpg'],\n",
              " ['Image_776.jpg', '/content/content/asl_alphabets/train/Image_776.jpg'],\n",
              " ['Image_777.jpg', '/content/content/asl_alphabets/train/Image_777.jpg'],\n",
              " ['Image_778.jpg', '/content/content/asl_alphabets/train/Image_778.jpg'],\n",
              " ['Image_779.jpg', '/content/content/asl_alphabets/train/Image_779.jpg'],\n",
              " ['Image_780.jpg', '/content/content/asl_alphabets/train/Image_780.jpg'],\n",
              " ['Image_781.jpg', '/content/content/asl_alphabets/train/Image_781.jpg'],\n",
              " ['Image_782.jpg', '/content/content/asl_alphabets/train/Image_782.jpg'],\n",
              " ['Image_783.jpg', '/content/content/asl_alphabets/train/Image_783.jpg'],\n",
              " ['Image_784.jpg', '/content/content/asl_alphabets/train/Image_784.jpg'],\n",
              " ['Image_785.jpg', '/content/content/asl_alphabets/train/Image_785.jpg'],\n",
              " ['Image_786.jpg', '/content/content/asl_alphabets/train/Image_786.jpg'],\n",
              " ['Image_787.jpg', '/content/content/asl_alphabets/train/Image_787.jpg'],\n",
              " ['Image_788.jpg', '/content/content/asl_alphabets/train/Image_788.jpg'],\n",
              " ['Image_789.jpg', '/content/content/asl_alphabets/train/Image_789.jpg'],\n",
              " ['Image_790.jpg', '/content/content/asl_alphabets/train/Image_790.jpg'],\n",
              " ['Image_791.jpg', '/content/content/asl_alphabets/train/Image_791.jpg'],\n",
              " ['Image_792.jpg', '/content/content/asl_alphabets/train/Image_792.jpg'],\n",
              " ['Image_793.jpg', '/content/content/asl_alphabets/train/Image_793.jpg'],\n",
              " ['Image_794.jpg', '/content/content/asl_alphabets/train/Image_794.jpg'],\n",
              " ['Image_795.jpg', '/content/content/asl_alphabets/train/Image_795.jpg'],\n",
              " ['Image_796.jpg', '/content/content/asl_alphabets/train/Image_796.jpg'],\n",
              " ['Image_797.jpg', '/content/content/asl_alphabets/train/Image_797.jpg'],\n",
              " ['Image_798.jpg', '/content/content/asl_alphabets/train/Image_798.jpg'],\n",
              " ['Image_799.jpg', '/content/content/asl_alphabets/train/Image_799.jpg'],\n",
              " ['Image_800.jpg', '/content/content/asl_alphabets/train/Image_800.jpg'],\n",
              " ['Image_801.jpg', '/content/content/asl_alphabets/train/Image_801.jpg'],\n",
              " ['Image_802.jpg', '/content/content/asl_alphabets/train/Image_802.jpg'],\n",
              " ['Image_803.jpg', '/content/content/asl_alphabets/train/Image_803.jpg'],\n",
              " ['Image_804.jpg', '/content/content/asl_alphabets/train/Image_804.jpg'],\n",
              " ['Image_805.jpg', '/content/content/asl_alphabets/train/Image_805.jpg'],\n",
              " ['Image_806.jpg', '/content/content/asl_alphabets/train/Image_806.jpg'],\n",
              " ['Image_807.jpg', '/content/content/asl_alphabets/train/Image_807.jpg'],\n",
              " ['Image_808.jpg', '/content/content/asl_alphabets/train/Image_808.jpg'],\n",
              " ['Image_809.jpg', '/content/content/asl_alphabets/train/Image_809.jpg'],\n",
              " ['Image_810.jpg', '/content/content/asl_alphabets/train/Image_810.jpg'],\n",
              " ['Image_811.jpg', '/content/content/asl_alphabets/train/Image_811.jpg'],\n",
              " ['Image_812.jpg', '/content/content/asl_alphabets/train/Image_812.jpg'],\n",
              " ['Image_813.jpg', '/content/content/asl_alphabets/train/Image_813.jpg'],\n",
              " ['Image_814.jpg', '/content/content/asl_alphabets/train/Image_814.jpg'],\n",
              " ['Image_815.jpg', '/content/content/asl_alphabets/train/Image_815.jpg'],\n",
              " ['Image_816.jpg', '/content/content/asl_alphabets/train/Image_816.jpg'],\n",
              " ['Image_817.jpg', '/content/content/asl_alphabets/train/Image_817.jpg'],\n",
              " ['Image_818.jpg', '/content/content/asl_alphabets/train/Image_818.jpg'],\n",
              " ['Image_819.jpg', '/content/content/asl_alphabets/train/Image_819.jpg'],\n",
              " ['Image_820.jpg', '/content/content/asl_alphabets/train/Image_820.jpg'],\n",
              " ['Image_821.jpg', '/content/content/asl_alphabets/train/Image_821.jpg'],\n",
              " ['Image_822.jpg', '/content/content/asl_alphabets/train/Image_822.jpg'],\n",
              " ['Image_823.jpg', '/content/content/asl_alphabets/train/Image_823.jpg'],\n",
              " ['Image_824.jpg', '/content/content/asl_alphabets/train/Image_824.jpg'],\n",
              " ['Image_825.jpg', '/content/content/asl_alphabets/train/Image_825.jpg'],\n",
              " ['Image_826.jpg', '/content/content/asl_alphabets/train/Image_826.jpg'],\n",
              " ['Image_827.jpg', '/content/content/asl_alphabets/train/Image_827.jpg'],\n",
              " ['Image_828.jpg', '/content/content/asl_alphabets/train/Image_828.jpg'],\n",
              " ['Image_829.jpg', '/content/content/asl_alphabets/train/Image_829.jpg'],\n",
              " ['Image_830.jpg', '/content/content/asl_alphabets/train/Image_830.jpg'],\n",
              " ['Image_831.jpg', '/content/content/asl_alphabets/train/Image_831.jpg'],\n",
              " ['Image_832.jpg', '/content/content/asl_alphabets/train/Image_832.jpg'],\n",
              " ['Image_833.jpg', '/content/content/asl_alphabets/train/Image_833.jpg'],\n",
              " ['Image_834.jpg', '/content/content/asl_alphabets/train/Image_834.jpg'],\n",
              " ['Image_835.jpg', '/content/content/asl_alphabets/train/Image_835.jpg'],\n",
              " ['Image_836.jpg', '/content/content/asl_alphabets/train/Image_836.jpg'],\n",
              " ['Image_837.jpg', '/content/content/asl_alphabets/train/Image_837.jpg'],\n",
              " ['Image_838.jpg', '/content/content/asl_alphabets/train/Image_838.jpg'],\n",
              " ['Image_839.jpg', '/content/content/asl_alphabets/train/Image_839.jpg'],\n",
              " ['Image_840.jpg', '/content/content/asl_alphabets/train/Image_840.jpg'],\n",
              " ['Image_841.jpg', '/content/content/asl_alphabets/train/Image_841.jpg'],\n",
              " ['Image_842.jpg', '/content/content/asl_alphabets/train/Image_842.jpg'],\n",
              " ['Image_843.jpg', '/content/content/asl_alphabets/train/Image_843.jpg'],\n",
              " ['Image_844.jpg', '/content/content/asl_alphabets/train/Image_844.jpg'],\n",
              " ['Image_845.jpg', '/content/content/asl_alphabets/train/Image_845.jpg'],\n",
              " ['Image_846.jpg', '/content/content/asl_alphabets/train/Image_846.jpg'],\n",
              " ['Image_847.jpg', '/content/content/asl_alphabets/train/Image_847.jpg'],\n",
              " ['Image_848.jpg', '/content/content/asl_alphabets/train/Image_848.jpg'],\n",
              " ['Image_849.jpg', '/content/content/asl_alphabets/train/Image_849.jpg'],\n",
              " ['Image_850.jpg', '/content/content/asl_alphabets/train/Image_850.jpg'],\n",
              " ['Image_851.jpg', '/content/content/asl_alphabets/train/Image_851.jpg'],\n",
              " ['Image_852.jpg', '/content/content/asl_alphabets/train/Image_852.jpg'],\n",
              " ['Image_853.jpg', '/content/content/asl_alphabets/train/Image_853.jpg'],\n",
              " ['Image_854.jpg', '/content/content/asl_alphabets/train/Image_854.jpg'],\n",
              " ['Image_855.jpg', '/content/content/asl_alphabets/train/Image_855.jpg'],\n",
              " ['Image_856.jpg', '/content/content/asl_alphabets/train/Image_856.jpg'],\n",
              " ['Image_857.jpg', '/content/content/asl_alphabets/train/Image_857.jpg'],\n",
              " ['Image_858.jpg', '/content/content/asl_alphabets/train/Image_858.jpg'],\n",
              " ['Image_859.jpg', '/content/content/asl_alphabets/train/Image_859.jpg'],\n",
              " ['Image_860.jpg', '/content/content/asl_alphabets/train/Image_860.jpg'],\n",
              " ['Image_861.jpg', '/content/content/asl_alphabets/train/Image_861.jpg'],\n",
              " ['Image_862.jpg', '/content/content/asl_alphabets/train/Image_862.jpg'],\n",
              " ['Image_863.jpg', '/content/content/asl_alphabets/train/Image_863.jpg'],\n",
              " ['Image_864.jpg', '/content/content/asl_alphabets/train/Image_864.jpg'],\n",
              " ['Image_865.jpg', '/content/content/asl_alphabets/train/Image_865.jpg'],\n",
              " ['Image_866.jpg', '/content/content/asl_alphabets/train/Image_866.jpg'],\n",
              " ['Image_867.jpg', '/content/content/asl_alphabets/train/Image_867.jpg'],\n",
              " ['Image_868.jpg', '/content/content/asl_alphabets/train/Image_868.jpg'],\n",
              " ['Image_869.jpg', '/content/content/asl_alphabets/train/Image_869.jpg'],\n",
              " ['Image_870.jpg', '/content/content/asl_alphabets/train/Image_870.jpg'],\n",
              " ['Image_871.jpg', '/content/content/asl_alphabets/train/Image_871.jpg'],\n",
              " ['Image_872.jpg', '/content/content/asl_alphabets/train/Image_872.jpg'],\n",
              " ['Image_873.jpg', '/content/content/asl_alphabets/train/Image_873.jpg'],\n",
              " ['Image_874.jpg', '/content/content/asl_alphabets/train/Image_874.jpg'],\n",
              " ['Image_875.jpg', '/content/content/asl_alphabets/train/Image_875.jpg'],\n",
              " ['Image_876.jpg', '/content/content/asl_alphabets/train/Image_876.jpg'],\n",
              " ['Image_877.jpg', '/content/content/asl_alphabets/train/Image_877.jpg'],\n",
              " ['Image_878.jpg', '/content/content/asl_alphabets/train/Image_878.jpg'],\n",
              " ['Image_879.jpg', '/content/content/asl_alphabets/train/Image_879.jpg'],\n",
              " ['Image_880.jpg', '/content/content/asl_alphabets/train/Image_880.jpg'],\n",
              " ['Image_881.jpg', '/content/content/asl_alphabets/train/Image_881.jpg'],\n",
              " ['Image_882.jpg', '/content/content/asl_alphabets/train/Image_882.jpg'],\n",
              " ['Image_883.jpg', '/content/content/asl_alphabets/train/Image_883.jpg'],\n",
              " ['Image_884.jpg', '/content/content/asl_alphabets/train/Image_884.jpg'],\n",
              " ['Image_885.jpg', '/content/content/asl_alphabets/train/Image_885.jpg'],\n",
              " ['Image_886.jpg', '/content/content/asl_alphabets/train/Image_886.jpg'],\n",
              " ['Image_887.jpg', '/content/content/asl_alphabets/train/Image_887.jpg'],\n",
              " ['Image_888.jpg', '/content/content/asl_alphabets/train/Image_888.jpg'],\n",
              " ['Image_889.jpg', '/content/content/asl_alphabets/train/Image_889.jpg'],\n",
              " ['Image_890.jpg', '/content/content/asl_alphabets/train/Image_890.jpg'],\n",
              " ['Image_891.jpg', '/content/content/asl_alphabets/train/Image_891.jpg'],\n",
              " ['Image_892.jpg', '/content/content/asl_alphabets/train/Image_892.jpg'],\n",
              " ['Image_893.jpg', '/content/content/asl_alphabets/train/Image_893.jpg'],\n",
              " ['Image_894.jpg', '/content/content/asl_alphabets/train/Image_894.jpg'],\n",
              " ['Image_895.jpg', '/content/content/asl_alphabets/train/Image_895.jpg'],\n",
              " ['Image_896.jpg', '/content/content/asl_alphabets/train/Image_896.jpg'],\n",
              " ['Image_897.jpg', '/content/content/asl_alphabets/train/Image_897.jpg'],\n",
              " ['Image_898.jpg', '/content/content/asl_alphabets/train/Image_898.jpg'],\n",
              " ['Image_899.jpg', '/content/content/asl_alphabets/train/Image_899.jpg'],\n",
              " ['Image_900.jpg', '/content/content/asl_alphabets/train/Image_900.jpg'],\n",
              " ['Image_901.jpg', '/content/content/asl_alphabets/train/Image_901.jpg'],\n",
              " ['Image_902.jpg', '/content/content/asl_alphabets/train/Image_902.jpg'],\n",
              " ['Image_903.jpg', '/content/content/asl_alphabets/train/Image_903.jpg'],\n",
              " ['Image_904.jpg', '/content/content/asl_alphabets/train/Image_904.jpg'],\n",
              " ['Image_905.jpg', '/content/content/asl_alphabets/train/Image_905.jpg'],\n",
              " ['Image_906.jpg', '/content/content/asl_alphabets/train/Image_906.jpg'],\n",
              " ['Image_907.jpg', '/content/content/asl_alphabets/train/Image_907.jpg'],\n",
              " ['Image_908.jpg', '/content/content/asl_alphabets/train/Image_908.jpg'],\n",
              " ['Image_909.jpg', '/content/content/asl_alphabets/train/Image_909.jpg'],\n",
              " ['Image_910.jpg', '/content/content/asl_alphabets/train/Image_910.jpg'],\n",
              " ['Image_911.jpg', '/content/content/asl_alphabets/train/Image_911.jpg'],\n",
              " ['Image_912.jpg', '/content/content/asl_alphabets/train/Image_912.jpg'],\n",
              " ['Image_913.jpg', '/content/content/asl_alphabets/train/Image_913.jpg'],\n",
              " ['Image_914.jpg', '/content/content/asl_alphabets/train/Image_914.jpg'],\n",
              " ['Image_915.jpg', '/content/content/asl_alphabets/train/Image_915.jpg'],\n",
              " ['Image_916.jpg', '/content/content/asl_alphabets/train/Image_916.jpg'],\n",
              " ['Image_917.jpg', '/content/content/asl_alphabets/train/Image_917.jpg'],\n",
              " ['Image_918.jpg', '/content/content/asl_alphabets/train/Image_918.jpg'],\n",
              " ['Image_919.jpg', '/content/content/asl_alphabets/train/Image_919.jpg'],\n",
              " ['Image_920.jpg', '/content/content/asl_alphabets/train/Image_920.jpg'],\n",
              " ['Image_921.jpg', '/content/content/asl_alphabets/train/Image_921.jpg'],\n",
              " ['Image_922.jpg', '/content/content/asl_alphabets/train/Image_922.jpg'],\n",
              " ['Image_923.jpg', '/content/content/asl_alphabets/train/Image_923.jpg'],\n",
              " ['Image_924.jpg', '/content/content/asl_alphabets/train/Image_924.jpg'],\n",
              " ['Image_925.jpg', '/content/content/asl_alphabets/train/Image_925.jpg'],\n",
              " ['Image_926.jpg', '/content/content/asl_alphabets/train/Image_926.jpg'],\n",
              " ['Image_927.jpg', '/content/content/asl_alphabets/train/Image_927.jpg'],\n",
              " ['Image_928.jpg', '/content/content/asl_alphabets/train/Image_928.jpg'],\n",
              " ['Image_929.jpg', '/content/content/asl_alphabets/train/Image_929.jpg'],\n",
              " ['Image_930.jpg', '/content/content/asl_alphabets/train/Image_930.jpg'],\n",
              " ['Image_931.jpg', '/content/content/asl_alphabets/train/Image_931.jpg'],\n",
              " ['Image_932.jpg', '/content/content/asl_alphabets/train/Image_932.jpg'],\n",
              " ['Image_933.jpg', '/content/content/asl_alphabets/train/Image_933.jpg'],\n",
              " ['Image_934.jpg', '/content/content/asl_alphabets/train/Image_934.jpg'],\n",
              " ['Image_935.jpg', '/content/content/asl_alphabets/train/Image_935.jpg'],\n",
              " ['Image_936.jpg', '/content/content/asl_alphabets/train/Image_936.jpg'],\n",
              " ['Image_937.jpg', '/content/content/asl_alphabets/train/Image_937.jpg'],\n",
              " ['Image_938.jpg', '/content/content/asl_alphabets/train/Image_938.jpg'],\n",
              " ['Image_939.jpg', '/content/content/asl_alphabets/train/Image_939.jpg'],\n",
              " ['Image_940.jpg', '/content/content/asl_alphabets/train/Image_940.jpg'],\n",
              " ['Image_941.jpg', '/content/content/asl_alphabets/train/Image_941.jpg'],\n",
              " ['Image_942.jpg', '/content/content/asl_alphabets/train/Image_942.jpg'],\n",
              " ['Image_943.jpg', '/content/content/asl_alphabets/train/Image_943.jpg'],\n",
              " ['Image_944.jpg', '/content/content/asl_alphabets/train/Image_944.jpg'],\n",
              " ['Image_945.jpg', '/content/content/asl_alphabets/train/Image_945.jpg'],\n",
              " ['Image_946.jpg', '/content/content/asl_alphabets/train/Image_946.jpg'],\n",
              " ['Image_947.jpg', '/content/content/asl_alphabets/train/Image_947.jpg'],\n",
              " ['Image_948.jpg', '/content/content/asl_alphabets/train/Image_948.jpg'],\n",
              " ['Image_949.jpg', '/content/content/asl_alphabets/train/Image_949.jpg'],\n",
              " ['Image_950.jpg', '/content/content/asl_alphabets/train/Image_950.jpg'],\n",
              " ['Image_951.jpg', '/content/content/asl_alphabets/train/Image_951.jpg'],\n",
              " ['Image_952.jpg', '/content/content/asl_alphabets/train/Image_952.jpg'],\n",
              " ['Image_953.jpg', '/content/content/asl_alphabets/train/Image_953.jpg'],\n",
              " ['Image_954.jpg', '/content/content/asl_alphabets/train/Image_954.jpg'],\n",
              " ['Image_955.jpg', '/content/content/asl_alphabets/train/Image_955.jpg'],\n",
              " ['Image_956.jpg', '/content/content/asl_alphabets/train/Image_956.jpg'],\n",
              " ['Image_957.jpg', '/content/content/asl_alphabets/train/Image_957.jpg'],\n",
              " ['Image_958.jpg', '/content/content/asl_alphabets/train/Image_958.jpg'],\n",
              " ['Image_959.jpg', '/content/content/asl_alphabets/train/Image_959.jpg'],\n",
              " ['Image_960.jpg', '/content/content/asl_alphabets/train/Image_960.jpg'],\n",
              " ['Image_961.jpg', '/content/content/asl_alphabets/train/Image_961.jpg'],\n",
              " ['Image_962.jpg', '/content/content/asl_alphabets/train/Image_962.jpg'],\n",
              " ['Image_963.jpg', '/content/content/asl_alphabets/train/Image_963.jpg'],\n",
              " ['Image_964.jpg', '/content/content/asl_alphabets/train/Image_964.jpg'],\n",
              " ['Image_965.jpg', '/content/content/asl_alphabets/train/Image_965.jpg'],\n",
              " ['Image_966.jpg', '/content/content/asl_alphabets/train/Image_966.jpg'],\n",
              " ['Image_967.jpg', '/content/content/asl_alphabets/train/Image_967.jpg'],\n",
              " ['Image_968.jpg', '/content/content/asl_alphabets/train/Image_968.jpg'],\n",
              " ['Image_969.jpg', '/content/content/asl_alphabets/train/Image_969.jpg'],\n",
              " ['Image_970.jpg', '/content/content/asl_alphabets/train/Image_970.jpg'],\n",
              " ['Image_971.jpg', '/content/content/asl_alphabets/train/Image_971.jpg'],\n",
              " ['Image_972.jpg', '/content/content/asl_alphabets/train/Image_972.jpg'],\n",
              " ['Image_973.jpg', '/content/content/asl_alphabets/train/Image_973.jpg'],\n",
              " ['Image_974.jpg', '/content/content/asl_alphabets/train/Image_974.jpg'],\n",
              " ['Image_975.jpg', '/content/content/asl_alphabets/train/Image_975.jpg'],\n",
              " ['Image_976.jpg', '/content/content/asl_alphabets/train/Image_976.jpg'],\n",
              " ['Image_977.jpg', '/content/content/asl_alphabets/train/Image_977.jpg'],\n",
              " ['Image_978.jpg', '/content/content/asl_alphabets/train/Image_978.jpg'],\n",
              " ['Image_979.jpg', '/content/content/asl_alphabets/train/Image_979.jpg'],\n",
              " ['Image_980.jpg', '/content/content/asl_alphabets/train/Image_980.jpg'],\n",
              " ['Image_981.jpg', '/content/content/asl_alphabets/train/Image_981.jpg'],\n",
              " ['Image_982.jpg', '/content/content/asl_alphabets/train/Image_982.jpg'],\n",
              " ['Image_983.jpg', '/content/content/asl_alphabets/train/Image_983.jpg'],\n",
              " ['Image_984.jpg', '/content/content/asl_alphabets/train/Image_984.jpg'],\n",
              " ['Image_985.jpg', '/content/content/asl_alphabets/train/Image_985.jpg'],\n",
              " ['Image_986.jpg', '/content/content/asl_alphabets/train/Image_986.jpg'],\n",
              " ['Image_987.jpg', '/content/content/asl_alphabets/train/Image_987.jpg'],\n",
              " ['Image_988.jpg', '/content/content/asl_alphabets/train/Image_988.jpg'],\n",
              " ['Image_989.jpg', '/content/content/asl_alphabets/train/Image_989.jpg'],\n",
              " ['Image_990.jpg', '/content/content/asl_alphabets/train/Image_990.jpg'],\n",
              " ['Image_991.jpg', '/content/content/asl_alphabets/train/Image_991.jpg'],\n",
              " ['Image_992.jpg', '/content/content/asl_alphabets/train/Image_992.jpg'],\n",
              " ['Image_993.jpg', '/content/content/asl_alphabets/train/Image_993.jpg'],\n",
              " ['Image_994.jpg', '/content/content/asl_alphabets/train/Image_994.jpg'],\n",
              " ['Image_995.jpg', '/content/content/asl_alphabets/train/Image_995.jpg'],\n",
              " ['Image_996.jpg', '/content/content/asl_alphabets/train/Image_996.jpg'],\n",
              " ['Image_997.jpg', '/content/content/asl_alphabets/train/Image_997.jpg'],\n",
              " ['Image_998.jpg', '/content/content/asl_alphabets/train/Image_998.jpg'],\n",
              " ['Image_999.jpg', '/content/content/asl_alphabets/train/Image_999.jpg'],\n",
              " ['Image_1000.jpg', '/content/content/asl_alphabets/train/Image_1000.jpg'],\n",
              " ...]"
            ]
          },
          "execution_count": 6,
          "metadata": {},
          "output_type": "execute_result"
        }
      ]
    },
    {
      "cell_type": "code",
      "metadata": {
        "colab": {
          "base_uri": "https://localhost:8080/",
          "height": 204
        },
        "id": "fJwzg-STrGWj",
        "outputId": "9699ba4d-8931-4c9e-e8fa-f0c2a00fdfd8"
      },
      "source": [
        "train_df = pd.DataFrame(file_path,columns=[\"filename\",\"filepath\"])\n",
        "train_df.head()"
      ],
      "execution_count": null,
      "outputs": [
        {
          "data": {
            "text/html": [
              "<div>\n",
              "<style scoped>\n",
              "    .dataframe tbody tr th:only-of-type {\n",
              "        vertical-align: middle;\n",
              "    }\n",
              "\n",
              "    .dataframe tbody tr th {\n",
              "        vertical-align: top;\n",
              "    }\n",
              "\n",
              "    .dataframe thead th {\n",
              "        text-align: right;\n",
              "    }\n",
              "</style>\n",
              "<table border=\"1\" class=\"dataframe\">\n",
              "  <thead>\n",
              "    <tr style=\"text-align: right;\">\n",
              "      <th></th>\n",
              "      <th>filename</th>\n",
              "      <th>filepath</th>\n",
              "    </tr>\n",
              "  </thead>\n",
              "  <tbody>\n",
              "    <tr>\n",
              "      <th>0</th>\n",
              "      <td>Image_1.jpg</td>\n",
              "      <td>/content/content/asl_alphabets/train/Image_1.jpg</td>\n",
              "    </tr>\n",
              "    <tr>\n",
              "      <th>1</th>\n",
              "      <td>Image_2.jpg</td>\n",
              "      <td>/content/content/asl_alphabets/train/Image_2.jpg</td>\n",
              "    </tr>\n",
              "    <tr>\n",
              "      <th>2</th>\n",
              "      <td>Image_3.jpg</td>\n",
              "      <td>/content/content/asl_alphabets/train/Image_3.jpg</td>\n",
              "    </tr>\n",
              "    <tr>\n",
              "      <th>3</th>\n",
              "      <td>Image_4.jpg</td>\n",
              "      <td>/content/content/asl_alphabets/train/Image_4.jpg</td>\n",
              "    </tr>\n",
              "    <tr>\n",
              "      <th>4</th>\n",
              "      <td>Image_5.jpg</td>\n",
              "      <td>/content/content/asl_alphabets/train/Image_5.jpg</td>\n",
              "    </tr>\n",
              "  </tbody>\n",
              "</table>\n",
              "</div>"
            ],
            "text/plain": [
              "      filename                                          filepath\n",
              "0  Image_1.jpg  /content/content/asl_alphabets/train/Image_1.jpg\n",
              "1  Image_2.jpg  /content/content/asl_alphabets/train/Image_2.jpg\n",
              "2  Image_3.jpg  /content/content/asl_alphabets/train/Image_3.jpg\n",
              "3  Image_4.jpg  /content/content/asl_alphabets/train/Image_4.jpg\n",
              "4  Image_5.jpg  /content/content/asl_alphabets/train/Image_5.jpg"
            ]
          },
          "execution_count": 9,
          "metadata": {},
          "output_type": "execute_result"
        }
      ]
    },
    {
      "cell_type": "code",
      "metadata": {
        "id": "tmuBSCd0rWau"
      },
      "source": [
        "train_df[\"label\"] = df.label"
      ],
      "execution_count": null,
      "outputs": []
    },
    {
      "cell_type": "code",
      "metadata": {
        "colab": {
          "base_uri": "https://localhost:8080/",
          "height": 204
        },
        "id": "Kuhz0jjrrdQI",
        "outputId": "740afad1-dc80-4776-e31d-b4c32cf46c98"
      },
      "source": [
        "train_df.head()"
      ],
      "execution_count": null,
      "outputs": [
        {
          "data": {
            "text/html": [
              "<div>\n",
              "<style scoped>\n",
              "    .dataframe tbody tr th:only-of-type {\n",
              "        vertical-align: middle;\n",
              "    }\n",
              "\n",
              "    .dataframe tbody tr th {\n",
              "        vertical-align: top;\n",
              "    }\n",
              "\n",
              "    .dataframe thead th {\n",
              "        text-align: right;\n",
              "    }\n",
              "</style>\n",
              "<table border=\"1\" class=\"dataframe\">\n",
              "  <thead>\n",
              "    <tr style=\"text-align: right;\">\n",
              "      <th></th>\n",
              "      <th>filename</th>\n",
              "      <th>filepath</th>\n",
              "      <th>label</th>\n",
              "    </tr>\n",
              "  </thead>\n",
              "  <tbody>\n",
              "    <tr>\n",
              "      <th>0</th>\n",
              "      <td>Image_1.jpg</td>\n",
              "      <td>/content/content/asl_alphabets/train/Image_1.jpg</td>\n",
              "      <td>B</td>\n",
              "    </tr>\n",
              "    <tr>\n",
              "      <th>1</th>\n",
              "      <td>Image_2.jpg</td>\n",
              "      <td>/content/content/asl_alphabets/train/Image_2.jpg</td>\n",
              "      <td>P</td>\n",
              "    </tr>\n",
              "    <tr>\n",
              "      <th>2</th>\n",
              "      <td>Image_3.jpg</td>\n",
              "      <td>/content/content/asl_alphabets/train/Image_3.jpg</td>\n",
              "      <td>J</td>\n",
              "    </tr>\n",
              "    <tr>\n",
              "      <th>3</th>\n",
              "      <td>Image_4.jpg</td>\n",
              "      <td>/content/content/asl_alphabets/train/Image_4.jpg</td>\n",
              "      <td>T</td>\n",
              "    </tr>\n",
              "    <tr>\n",
              "      <th>4</th>\n",
              "      <td>Image_5.jpg</td>\n",
              "      <td>/content/content/asl_alphabets/train/Image_5.jpg</td>\n",
              "      <td>B</td>\n",
              "    </tr>\n",
              "  </tbody>\n",
              "</table>\n",
              "</div>"
            ],
            "text/plain": [
              "      filename                                          filepath label\n",
              "0  Image_1.jpg  /content/content/asl_alphabets/train/Image_1.jpg     B\n",
              "1  Image_2.jpg  /content/content/asl_alphabets/train/Image_2.jpg     P\n",
              "2  Image_3.jpg  /content/content/asl_alphabets/train/Image_3.jpg     J\n",
              "3  Image_4.jpg  /content/content/asl_alphabets/train/Image_4.jpg     T\n",
              "4  Image_5.jpg  /content/content/asl_alphabets/train/Image_5.jpg     B"
            ]
          },
          "execution_count": 8,
          "metadata": {},
          "output_type": "execute_result"
        }
      ]
    },
    {
      "cell_type": "code",
      "metadata": {
        "colab": {
          "base_uri": "https://localhost:8080/"
        },
        "id": "QxV0QBgqwHAj",
        "outputId": "90263fc6-11a4-44fe-f57d-0b79632e3016"
      },
      "source": [
        "len(train_df.label.unique())"
      ],
      "execution_count": null,
      "outputs": [
        {
          "data": {
            "text/plain": [
              "29"
            ]
          },
          "execution_count": 9,
          "metadata": {},
          "output_type": "execute_result"
        }
      ]
    },
    {
      "cell_type": "code",
      "metadata": {
        "colab": {
          "base_uri": "https://localhost:8080/",
          "height": 286
        },
        "id": "tNKxXPlPrfBz",
        "outputId": "b32ba35a-d811-40d2-c8fc-04306e52e70f"
      },
      "source": [
        "image = load_img(\"/content/content/asl_alphabets/train/Image_1.jpg\")\n",
        "plt.imshow(image)"
      ],
      "execution_count": null,
      "outputs": [
        {
          "data": {
            "text/plain": [
              "<matplotlib.image.AxesImage at 0x7f7c6684fd50>"
            ]
          },
          "execution_count": 12,
          "metadata": {},
          "output_type": "execute_result"
        },
        {
          "data": {
            "image/png": "[encoded data removed]",
            "text/plain": [
              "<Figure size 432x288 with 1 Axes>"
            ]
          },
          "metadata": {},
          "output_type": "display_data"
        }
      ]
    },
    {
      "cell_type": "code",
      "metadata": {
        "id": "_yc5T3uUxXq7"
      },
      "source": [
        "from sklearn.preprocessing import LabelEncoder\n",
        "le = LabelEncoder()\n",
        "train_df['label'] = le.fit_transform(train_df['label'])"
      ],
      "execution_count": null,
      "outputs": []
    },
    {
      "cell_type": "code",
      "metadata": {
        "colab": {
          "base_uri": "https://localhost:8080/"
        },
        "id": "rcqrg12xxffW",
        "outputId": "1f0a8cb7-dcc7-41a7-e531-5cfe640f4c90"
      },
      "source": [
        "train_df['label']"
      ],
      "execution_count": null,
      "outputs": [
        {
          "data": {
            "text/plain": [
              "0         1\n",
              "1        15\n",
              "2         9\n",
              "3        19\n",
              "4         1\n",
              "         ..\n",
              "60895    18\n",
              "60896     8\n",
              "60897    23\n",
              "60898    16\n",
              "60899    10\n",
              "Name: label, Length: 60900, dtype: int64"
            ]
          },
          "execution_count": 11,
          "metadata": {},
          "output_type": "execute_result"
        }
      ]
    },
    {
      "cell_type": "markdown",
      "metadata": {
        "id": "gs7q3AwftZC4"
      },
      "source": [
        "# Building Model"
      ]
    },
    {
      "cell_type": "code",
      "metadata": {
        "id": "_xA1Bb1prwPq"
      },
      "source": [
        "width = 175\n",
        "height = 175\n",
        "channels = 3"
      ],
      "execution_count": null,
      "outputs": []
    },
    {
      "cell_type": "code",
      "metadata": {
        "id": "Jyt5tbU5trW7"
      },
      "source": [
        "from tensorflow.keras import Sequential\n",
        "from tensorflow.keras.layers import Conv2D,BatchNormalization,MaxPooling2D,Dense,Dropout,Flatten"
      ],
      "execution_count": null,
      "outputs": []
    },
    {
      "cell_type": "code",
      "metadata": {
        "id": "hACI0v23uFeg"
      },
      "source": [
        "def create_model():\n",
        "  model = Sequential()\n",
        "\n",
        "  model.add(Conv2D(32,(4,4),padding='same',activation='relu',input_shape=(width,height,channels)))\n",
        "  model.add(BatchNormalization())\n",
        "  model.add(MaxPooling2D(pool_size=(3, 3)))\n",
        "  model.add(Dropout(0.25))\n",
        "\n",
        "  model.add(Conv2D(64,(4,4),padding='same',activation='relu'))\n",
        "  model.add(BatchNormalization())\n",
        "  model.add(MaxPooling2D(pool_size=(3, 3)))\n",
        "  model.add(Dropout(0.25))\n",
        "\n",
        "  model.add(Conv2D(128,(4,4),padding='same',activation='relu'))\n",
        "  model.add(BatchNormalization())\n",
        "  model.add(MaxPooling2D(pool_size=(3, 3)))\n",
        "  model.add(Dropout(0.25))\n",
        "\n",
        "  # model.add(Conv2D(256,(4,4),padding='same',activation='relu'))\n",
        "  # model.add(BatchNormalization())\n",
        "  # model.add(MaxPooling2D(pool_size=(3, 3)))\n",
        "  # model.add(Dropout(0.25))\n",
        "\n",
        "  model.add(Flatten())\n",
        "\n",
        "  # model.add(Dense(256,activation='relu'))\n",
        "  # model.add(BatchNormalization())\n",
        "  # model.add(Dropout(0.25))\n",
        "\n",
        "  model.add(Dense(128,activation='relu'))\n",
        "  model.add(BatchNormalization())\n",
        "  model.add(Dropout(0.25))\n",
        "\n",
        "  model.add(Dense(64,activation='relu'))\n",
        "  model.add(BatchNormalization())\n",
        "  model.add(Dropout(0.25))\n",
        "\n",
        "  model.add(Dense(16,activation='relu'))\n",
        "  model.add(BatchNormalization())\n",
        "  model.add(Dropout(0.25))\n",
        "\n",
        "  model.add(Dense(29,activation='softmax'))\n",
        "\n",
        "  model.compile(loss='sparse_categorical_crossentropy', optimizer='adam', metrics=['accuracy'])\n",
        "  \n",
        "  return model"
      ],
      "execution_count": null,
      "outputs": []
    },
    {
      "cell_type": "code",
      "metadata": {
        "id": "Qx_86dLJwpQx"
      },
      "source": [
        ""
      ],
      "execution_count": null,
      "outputs": []
    },
    {
      "cell_type": "code",
      "metadata": {
        "id": "bDiCunpewccY"
      },
      "source": [
        "model = create_model()"
      ],
      "execution_count": null,
      "outputs": []
    },
    {
      "cell_type": "code",
      "metadata": {
        "colab": {
          "base_uri": "https://localhost:8080/"
        },
        "id": "SBIGhlN6wiG_",
        "outputId": "064501cd-dd43-4954-f67f-fda3bfefdffd"
      },
      "source": [
        "model.summary()"
      ],
      "execution_count": null,
      "outputs": [
        {
          "name": "stdout",
          "output_type": "stream",
          "text": [
            "Model: \"sequential\"\n",
            "_________________________________________________________________\n",
            "Layer (type)                 Output Shape              Param #   \n",
            "=================================================================\n",
            "conv2d (Conv2D)              (None, 175, 175, 32)      1568      \n",
            "_________________________________________________________________\n",
            "batch_normalization (BatchNo (None, 175, 175, 32)      128       \n",
            "_________________________________________________________________\n",
            "max_pooling2d (MaxPooling2D) (None, 58, 58, 32)        0         \n",
            "_________________________________________________________________\n",
            "dropout (Dropout)            (None, 58, 58, 32)        0         \n",
            "_________________________________________________________________\n",
            "conv2d_1 (Conv2D)            (None, 58, 58, 64)        32832     \n",
            "_________________________________________________________________\n",
            "batch_normalization_1 (Batch (None, 58, 58, 64)        256       \n",
            "_________________________________________________________________\n",
            "max_pooling2d_1 (MaxPooling2 (None, 19, 19, 64)        0         \n",
            "_________________________________________________________________\n",
            "dropout_1 (Dropout)          (None, 19, 19, 64)        0         \n",
            "_________________________________________________________________\n",
            "conv2d_2 (Conv2D)            (None, 19, 19, 128)       131200    \n",
            "_________________________________________________________________\n",
            "batch_normalization_2 (Batch (None, 19, 19, 128)       512       \n",
            "_________________________________________________________________\n",
            "max_pooling2d_2 (MaxPooling2 (None, 6, 6, 128)         0         \n",
            "_________________________________________________________________\n",
            "dropout_2 (Dropout)          (None, 6, 6, 128)         0         \n",
            "_________________________________________________________________\n",
            "conv2d_3 (Conv2D)            (None, 6, 6, 256)         524544    \n",
            "_________________________________________________________________\n",
            "batch_normalization_3 (Batch (None, 6, 6, 256)         1024      \n",
            "_________________________________________________________________\n",
            "max_pooling2d_3 (MaxPooling2 (None, 2, 2, 256)         0         \n",
            "_________________________________________________________________\n",
            "dropout_3 (Dropout)          (None, 2, 2, 256)         0         \n",
            "_________________________________________________________________\n",
            "flatten (Flatten)            (None, 1024)              0         \n",
            "_________________________________________________________________\n",
            "dense (Dense)                (None, 256)               262400    \n",
            "_________________________________________________________________\n",
            "batch_normalization_4 (Batch (None, 256)               1024      \n",
            "_________________________________________________________________\n",
            "dropout_4 (Dropout)          (None, 256)               0         \n",
            "_________________________________________________________________\n",
            "dense_1 (Dense)              (None, 128)               32896     \n",
            "_________________________________________________________________\n",
            "batch_normalization_5 (Batch (None, 128)               512       \n",
            "_________________________________________________________________\n",
            "dropout_5 (Dropout)          (None, 128)               0         \n",
            "_________________________________________________________________\n",
            "dense_2 (Dense)              (None, 64)                8256      \n",
            "_________________________________________________________________\n",
            "batch_normalization_6 (Batch (None, 64)                256       \n",
            "_________________________________________________________________\n",
            "dropout_6 (Dropout)          (None, 64)                0         \n",
            "_________________________________________________________________\n",
            "dense_3 (Dense)              (None, 16)                1040      \n",
            "_________________________________________________________________\n",
            "batch_normalization_7 (Batch (None, 16)                64        \n",
            "_________________________________________________________________\n",
            "dropout_7 (Dropout)          (None, 16)                0         \n",
            "_________________________________________________________________\n",
            "dense_4 (Dense)              (None, 29)                493       \n",
            "=================================================================\n",
            "Total params: 999,005\n",
            "Trainable params: 997,117\n",
            "Non-trainable params: 1,888\n",
            "_________________________________________________________________\n"
          ]
        }
      ]
    },
    {
      "cell_type": "markdown",
      "metadata": {
        "id": "9qCnhpULw8e0"
      },
      "source": [
        "# Callbacks"
      ]
    },
    {
      "cell_type": "code",
      "metadata": {
        "id": "GZPkmnQtw1Rr"
      },
      "source": [
        "from tensorflow.keras.callbacks import EarlyStopping,ReduceLROnPlateau"
      ],
      "execution_count": null,
      "outputs": []
    },
    {
      "cell_type": "code",
      "metadata": {
        "id": "USr2FEBoxFvW"
      },
      "source": [
        "earlystop = EarlyStopping(patience=10)"
      ],
      "execution_count": null,
      "outputs": []
    },
    {
      "cell_type": "code",
      "metadata": {
        "id": "GMmQjXNgxHq8"
      },
      "source": [
        "learning_rate_reduction = ReduceLROnPlateau(monitor='val_acc', \n",
        "                                            patience=2, \n",
        "                                            verbose=1, \n",
        "                                            factor=0.5, \n",
        "                                            min_lr=0.00001)"
      ],
      "execution_count": null,
      "outputs": []
    },
    {
      "cell_type": "code",
      "metadata": {
        "id": "D4zxa0WsxMVG"
      },
      "source": [
        "callbacks = [earlystop, learning_rate_reduction]"
      ],
      "execution_count": null,
      "outputs": []
    },
    {
      "cell_type": "markdown",
      "metadata": {
        "id": "--znlKhvxQxU"
      },
      "source": [
        "# Preparing Data"
      ]
    },
    {
      "cell_type": "code",
      "metadata": {
        "id": "4L-iqmwFxP3t"
      },
      "source": [
        "from sklearn.model_selection import train_test_split"
      ],
      "execution_count": null,
      "outputs": []
    },
    {
      "cell_type": "code",
      "metadata": {
        "id": "4qaLUzUmxmaZ"
      },
      "source": [
        "train_data,validate_data = train_test_split(train_df,test_size=0.2,random_state=42)"
      ],
      "execution_count": null,
      "outputs": []
    },
    {
      "cell_type": "code",
      "metadata": {
        "colab": {
          "base_uri": "https://localhost:8080/",
          "height": 284
        },
        "id": "ClhA056GxxIu",
        "outputId": "4f34987b-671b-4ec9-9fe4-025e465b6080"
      },
      "source": [
        "train_data['label'].value_counts().plot.bar()"
      ],
      "execution_count": null,
      "outputs": [
        {
          "data": {
            "text/plain": [
              "<matplotlib.axes._subplots.AxesSubplot at 0x7f83b0499c10>"
            ]
          },
          "execution_count": 22,
          "metadata": {},
          "output_type": "execute_result"
        },
        {
          "data": {
            "image/png": "[encoded data removed]",
            "text/plain": [
              "<Figure size 432x288 with 1 Axes>"
            ]
          },
          "metadata": {},
          "output_type": "display_data"
        }
      ]
    },
    {
      "cell_type": "code",
      "metadata": {
        "colab": {
          "base_uri": "https://localhost:8080/",
          "height": 285
        },
        "id": "7exJ4P-Kx27z",
        "outputId": "1f0de6f8-e10d-4346-a57c-e57b5d07d861"
      },
      "source": [
        "validate_data['label'].value_counts().plot.bar()"
      ],
      "execution_count": null,
      "outputs": [
        {
          "data": {
            "text/plain": [
              "<matplotlib.axes._subplots.AxesSubplot at 0x7f9bd0092b10>"
            ]
          },
          "execution_count": 23,
          "metadata": {},
          "output_type": "execute_result"
        },
        {
          "data": {
            "image/png": "[encoded data removed]",
            "text/plain": [
              "<Figure size 432x288 with 1 Axes>"
            ]
          },
          "metadata": {},
          "output_type": "display_data"
        }
      ]
    },
    {
      "cell_type": "code",
      "metadata": {
        "id": "EJpWLLPpx6OL"
      },
      "source": [
        "total_train = train_data.shape[0]\n",
        "total_validate = validate_data.shape[0]\n",
        "batch_size=32"
      ],
      "execution_count": null,
      "outputs": []
    },
    {
      "cell_type": "markdown",
      "metadata": {
        "id": "K3Nf6vG4yKAS"
      },
      "source": [
        "# Training Generator"
      ]
    },
    {
      "cell_type": "code",
      "metadata": {
        "id": "DUTq5SwSyIQk"
      },
      "source": [
        "train_datagen = ImageDataGenerator(rotation_range=15,shear_range=0.1,zoom_range=0.2,horizontal_flip=True,\n",
        "                                   rescale=1./255,\n",
        "                                   width_shift_range=0.1,height_shift_range=0.1)"
      ],
      "execution_count": null,
      "outputs": []
    },
    {
      "cell_type": "code",
      "metadata": {
        "colab": {
          "base_uri": "https://localhost:8080/"
        },
        "id": "K9d-fSVXz5OS",
        "outputId": "268bc935-13cb-48ee-da86-d736bcd8ab8d"
      },
      "source": [
        "train_generator = train_datagen.flow_from_dataframe(\n",
        "    train_data,\n",
        "    directory=\"/content/content/asl_alphabets/train\",\n",
        "    x_col='filename',\n",
        "    y_col='label',\n",
        "    target_size=(width,height),\n",
        "    class_mode='raw',\n",
        "    batch_size=32\n",
        ")"
      ],
      "execution_count": null,
      "outputs": [
        {
          "name": "stdout",
          "output_type": "stream",
          "text": [
            "Found 48720 validated image filenames.\n"
          ]
        }
      ]
    },
    {
      "cell_type": "code",
      "metadata": {
        "colab": {
          "base_uri": "https://localhost:8080/"
        },
        "id": "3SUYZ6Yb02xI",
        "outputId": "fbd0981c-c053-4277-be58-9d5b69ccfde8"
      },
      "source": [
        "validation_datagen = ImageDataGenerator(rescale=1./255)\n",
        "\n",
        "validation_generator = train_datagen.flow_from_dataframe(\n",
        "    validate_data,\n",
        "    directory=\"/content/content/asl_alphabets/train\",\n",
        "    x_col='filename',\n",
        "    y_col='label',\n",
        "    target_size=(width,height),\n",
        "    class_mode='raw',\n",
        "    batch_size=32\n",
        ")"
      ],
      "execution_count": null,
      "outputs": [
        {
          "name": "stdout",
          "output_type": "stream",
          "text": [
            "Found 12180 validated image filenames.\n"
          ]
        }
      ]
    },
    {
      "cell_type": "markdown",
      "metadata": {
        "id": "HAPrQp7p2HNG"
      },
      "source": [
        "# Fit Model"
      ]
    },
    {
      "cell_type": "code",
      "metadata": {
        "id": "L9nqbd_W2uoQ"
      },
      "source": [
        "\n",
        "# FAST_RUN = False"
      ],
      "execution_count": null,
      "outputs": []
    },
    {
      "cell_type": "code",
      "metadata": {
        "colab": {
          "base_uri": "https://localhost:8080/"
        },
        "id": "ZsZMZ-v71-25",
        "outputId": "9bd82982-4146-4b3c-9b66-28065e8840e6"
      },
      "source": [
        "epochs = 20\n",
        "\n",
        "history = model.fit(train_generator,epochs=epochs,callbacks=callbacks,validation_data=validation_generator,\n",
        "    validation_steps=total_validate//batch_size,\n",
        "    steps_per_epoch=total_train//batch_size)"
      ],
      "execution_count": null,
      "outputs": [
        {
          "name": "stdout",
          "output_type": "stream",
          "text": [
            "Epoch 1/20\n",
            "1522/1522 [==============================] - 531s 349ms/step - loss: 0.3767 - accuracy: 0.8825 - val_loss: 0.2355 - val_accuracy: 0.9239\n",
            "WARNING:tensorflow:Learning rate reduction is conditioned on metric `val_acc` which is not available. Available metrics are: loss,accuracy,val_loss,val_accuracy,lr\n",
            "Epoch 2/20\n",
            "1522/1522 [==============================] - 520s 341ms/step - loss: 0.3532 - accuracy: 0.8879 - val_loss: 0.1290 - val_accuracy: 0.9573\n",
            "WARNING:tensorflow:Learning rate reduction is conditioned on metric `val_acc` which is not available. Available metrics are: loss,accuracy,val_loss,val_accuracy,lr\n",
            "Epoch 3/20\n",
            "1522/1522 [==============================] - 526s 345ms/step - loss: 0.3429 - accuracy: 0.8912 - val_loss: 0.1069 - val_accuracy: 0.9654\n",
            "WARNING:tensorflow:Learning rate reduction is conditioned on metric `val_acc` which is not available. Available metrics are: loss,accuracy,val_loss,val_accuracy,lr\n",
            "Epoch 4/20\n",
            "1522/1522 [==============================] - 530s 348ms/step - loss: 0.3366 - accuracy: 0.8957 - val_loss: 0.9345 - val_accuracy: 0.7404\n",
            "WARNING:tensorflow:Learning rate reduction is conditioned on metric `val_acc` which is not available. Available metrics are: loss,accuracy,val_loss,val_accuracy,lr\n",
            "Epoch 5/20\n",
            "1522/1522 [==============================] - 514s 338ms/step - loss: 0.3305 - accuracy: 0.8967 - val_loss: 0.1429 - val_accuracy: 0.9510\n",
            "WARNING:tensorflow:Learning rate reduction is conditioned on metric `val_acc` which is not available. Available metrics are: loss,accuracy,val_loss,val_accuracy,lr\n",
            "Epoch 6/20\n",
            "1522/1522 [==============================] - 507s 333ms/step - loss: 0.3174 - accuracy: 0.9007 - val_loss: 0.1567 - val_accuracy: 0.9460\n",
            "WARNING:tensorflow:Learning rate reduction is conditioned on metric `val_acc` which is not available. Available metrics are: loss,accuracy,val_loss,val_accuracy,lr\n",
            "Epoch 7/20\n",
            "1522/1522 [==============================] - 514s 338ms/step - loss: 0.3105 - accuracy: 0.9035 - val_loss: 0.1843 - val_accuracy: 0.9380\n",
            "WARNING:tensorflow:Learning rate reduction is conditioned on metric `val_acc` which is not available. Available metrics are: loss,accuracy,val_loss,val_accuracy,lr\n",
            "Epoch 8/20\n",
            "1522/1522 [==============================] - 499s 328ms/step - loss: 0.3043 - accuracy: 0.9052 - val_loss: 0.2159 - val_accuracy: 0.9276\n",
            "WARNING:tensorflow:Learning rate reduction is conditioned on metric `val_acc` which is not available. Available metrics are: loss,accuracy,val_loss,val_accuracy,lr\n",
            "Epoch 9/20\n",
            "1522/1522 [==============================] - 523s 344ms/step - loss: 0.2992 - accuracy: 0.9065 - val_loss: 0.1317 - val_accuracy: 0.9556\n",
            "WARNING:tensorflow:Learning rate reduction is conditioned on metric `val_acc` which is not available. Available metrics are: loss,accuracy,val_loss,val_accuracy,lr\n",
            "Epoch 10/20\n",
            "1522/1522 [==============================] - 547s 359ms/step - loss: 0.2871 - accuracy: 0.9130 - val_loss: 0.1880 - val_accuracy: 0.9314\n",
            "WARNING:tensorflow:Learning rate reduction is conditioned on metric `val_acc` which is not available. Available metrics are: loss,accuracy,val_loss,val_accuracy,lr\n",
            "Epoch 11/20\n",
            "1522/1522 [==============================] - 520s 342ms/step - loss: 0.2840 - accuracy: 0.9137 - val_loss: 0.2768 - val_accuracy: 0.9181\n",
            "WARNING:tensorflow:Learning rate reduction is conditioned on metric `val_acc` which is not available. Available metrics are: loss,accuracy,val_loss,val_accuracy,lr\n",
            "Epoch 12/20\n",
            "1522/1522 [==============================] - 510s 335ms/step - loss: 0.2725 - accuracy: 0.9172 - val_loss: 0.1728 - val_accuracy: 0.9414\n",
            "WARNING:tensorflow:Learning rate reduction is conditioned on metric `val_acc` which is not available. Available metrics are: loss,accuracy,val_loss,val_accuracy,lr\n",
            "Epoch 13/20\n",
            "1522/1522 [==============================] - 506s 333ms/step - loss: 0.2737 - accuracy: 0.9156 - val_loss: 0.0587 - val_accuracy: 0.9813\n",
            "WARNING:tensorflow:Learning rate reduction is conditioned on metric `val_acc` which is not available. Available metrics are: loss,accuracy,val_loss,val_accuracy,lr\n",
            "Epoch 14/20\n",
            "1522/1522 [==============================] - 515s 338ms/step - loss: 0.2631 - accuracy: 0.9205 - val_loss: 0.0812 - val_accuracy: 0.9723\n",
            "WARNING:tensorflow:Learning rate reduction is conditioned on metric `val_acc` which is not available. Available metrics are: loss,accuracy,val_loss,val_accuracy,lr\n",
            "Epoch 15/20\n",
            "1522/1522 [==============================] - 502s 330ms/step - loss: 0.2640 - accuracy: 0.9186 - val_loss: 0.1133 - val_accuracy: 0.9613\n",
            "WARNING:tensorflow:Learning rate reduction is conditioned on metric `val_acc` which is not available. Available metrics are: loss,accuracy,val_loss,val_accuracy,lr\n",
            "Epoch 16/20\n",
            "1522/1522 [==============================] - 504s 331ms/step - loss: 0.2537 - accuracy: 0.9220 - val_loss: 0.0564 - val_accuracy: 0.9826\n",
            "WARNING:tensorflow:Learning rate reduction is conditioned on metric `val_acc` which is not available. Available metrics are: loss,accuracy,val_loss,val_accuracy,lr\n",
            "Epoch 17/20\n",
            "1522/1522 [==============================] - 495s 325ms/step - loss: 0.2541 - accuracy: 0.9230 - val_loss: 0.2656 - val_accuracy: 0.9201\n",
            "WARNING:tensorflow:Learning rate reduction is conditioned on metric `val_acc` which is not available. Available metrics are: loss,accuracy,val_loss,val_accuracy,lr\n",
            "Epoch 18/20\n",
            "1522/1522 [==============================] - 502s 330ms/step - loss: 0.2428 - accuracy: 0.9272 - val_loss: 0.1664 - val_accuracy: 0.9488\n",
            "WARNING:tensorflow:Learning rate reduction is conditioned on metric `val_acc` which is not available. Available metrics are: loss,accuracy,val_loss,val_accuracy,lr\n",
            "Epoch 19/20\n",
            "1522/1522 [==============================] - 519s 341ms/step - loss: 0.2409 - accuracy: 0.9269 - val_loss: 0.0603 - val_accuracy: 0.9815\n",
            "WARNING:tensorflow:Learning rate reduction is conditioned on metric `val_acc` which is not available. Available metrics are: loss,accuracy,val_loss,val_accuracy,lr\n",
            "Epoch 20/20\n",
            "1522/1522 [==============================] - 526s 346ms/step - loss: 0.2425 - accuracy: 0.9271 - val_loss: 0.1021 - val_accuracy: 0.9645\n",
            "WARNING:tensorflow:Learning rate reduction is conditioned on metric `val_acc` which is not available. Available metrics are: loss,accuracy,val_loss,val_accuracy,lr\n"
          ]
        }
      ]
    },
    {
      "cell_type": "code",
      "metadata": {
        "colab": {
          "base_uri": "https://localhost:8080/",
          "height": 872
        },
        "id": "o9DbZ59v2mIC",
        "outputId": "e4f188a7-bb9c-499b-ba43-74b7f4284bd2"
      },
      "source": [
        "fig, (ax1, ax2) = plt.subplots(2, 1, figsize=(12, 12))\n",
        "ax1.plot(history.history['loss'], color='b', label=\"Training loss\")\n",
        "ax1.plot(history.history['val_loss'], color='r', label=\"validation loss\")\n",
        "ax1.set_xticks(np.arange(1, epochs, 1))\n",
        "ax1.set_yticks(np.arange(0, 1, 0.1))\n",
        "\n",
        "ax2.plot(history.history['accuracy'], color='b', label=\"Training accuracy\")\n",
        "ax2.plot(history.history['val_accuracy'], color='r',label=\"Validation accuracy\")\n",
        "ax2.set_xticks(np.arange(1, epochs, 1))\n",
        "\n",
        "legend = plt.legend(loc='best', shadow=True)\n",
        "plt.tight_layout()\n",
        "plt.show()"
      ],
      "execution_count": null,
      "outputs": [
        {
          "data": {
            "image/png": "[encoded data removed]",
            "text/plain": [
              "<Figure size 864x864 with 2 Axes>"
            ]
          },
          "metadata": {},
          "output_type": "display_data"
        }
      ]
    },
    {
      "cell_type": "markdown",
      "metadata": {
        "id": "f57Og_YzJ4ns"
      },
      "source": [
        "# Test Generator"
      ]
    },
    {
      "cell_type": "code",
      "metadata": {
        "colab": {
          "base_uri": "https://localhost:8080/",
          "height": 420
        },
        "id": "l0jpNApCWAAr",
        "outputId": "e581548f-e7c8-4a1c-ae34-664cd28aaaeb"
      },
      "source": [
        "test_df = pd.read_csv(\"/content/content/asl_alphabets/Training_set.csv\")\n",
        "test_df"
      ],
      "execution_count": null,
      "outputs": [
        {
          "data": {
            "text/html": [
              "<div>\n",
              "<style scoped>\n",
              "    .dataframe tbody tr th:only-of-type {\n",
              "        vertical-align: middle;\n",
              "    }\n",
              "\n",
              "    .dataframe tbody tr th {\n",
              "        vertical-align: top;\n",
              "    }\n",
              "\n",
              "    .dataframe thead th {\n",
              "        text-align: right;\n",
              "    }\n",
              "</style>\n",
              "<table border=\"1\" class=\"dataframe\">\n",
              "  <thead>\n",
              "    <tr style=\"text-align: right;\">\n",
              "      <th></th>\n",
              "      <th>filename</th>\n",
              "      <th>label</th>\n",
              "    </tr>\n",
              "  </thead>\n",
              "  <tbody>\n",
              "    <tr>\n",
              "      <th>0</th>\n",
              "      <td>Image_1.jpg</td>\n",
              "      <td>B</td>\n",
              "    </tr>\n",
              "    <tr>\n",
              "      <th>1</th>\n",
              "      <td>Image_2.jpg</td>\n",
              "      <td>P</td>\n",
              "    </tr>\n",
              "    <tr>\n",
              "      <th>2</th>\n",
              "      <td>Image_3.jpg</td>\n",
              "      <td>J</td>\n",
              "    </tr>\n",
              "    <tr>\n",
              "      <th>3</th>\n",
              "      <td>Image_4.jpg</td>\n",
              "      <td>T</td>\n",
              "    </tr>\n",
              "    <tr>\n",
              "      <th>4</th>\n",
              "      <td>Image_5.jpg</td>\n",
              "      <td>B</td>\n",
              "    </tr>\n",
              "    <tr>\n",
              "      <th>...</th>\n",
              "      <td>...</td>\n",
              "      <td>...</td>\n",
              "    </tr>\n",
              "    <tr>\n",
              "      <th>60895</th>\n",
              "      <td>Image_60896.jpg</td>\n",
              "      <td>S</td>\n",
              "    </tr>\n",
              "    <tr>\n",
              "      <th>60896</th>\n",
              "      <td>Image_60897.jpg</td>\n",
              "      <td>I</td>\n",
              "    </tr>\n",
              "    <tr>\n",
              "      <th>60897</th>\n",
              "      <td>Image_60898.jpg</td>\n",
              "      <td>X</td>\n",
              "    </tr>\n",
              "    <tr>\n",
              "      <th>60898</th>\n",
              "      <td>Image_60899.jpg</td>\n",
              "      <td>Q</td>\n",
              "    </tr>\n",
              "    <tr>\n",
              "      <th>60899</th>\n",
              "      <td>Image_60900.jpg</td>\n",
              "      <td>K</td>\n",
              "    </tr>\n",
              "  </tbody>\n",
              "</table>\n",
              "<p>60900 rows × 2 columns</p>\n",
              "</div>"
            ],
            "text/plain": [
              "              filename label\n",
              "0          Image_1.jpg     B\n",
              "1          Image_2.jpg     P\n",
              "2          Image_3.jpg     J\n",
              "3          Image_4.jpg     T\n",
              "4          Image_5.jpg     B\n",
              "...                ...   ...\n",
              "60895  Image_60896.jpg     S\n",
              "60896  Image_60897.jpg     I\n",
              "60897  Image_60898.jpg     X\n",
              "60898  Image_60899.jpg     Q\n",
              "60899  Image_60900.jpg     K\n",
              "\n",
              "[60900 rows x 2 columns]"
            ]
          },
          "execution_count": 56,
          "metadata": {},
          "output_type": "execute_result"
        }
      ]
    },
    {
      "cell_type": "code",
      "metadata": {
        "id": "8p4t5am1M5X5"
      },
      "source": [
        "test_df['label'] = le.transform(test_df['label'])"
      ],
      "execution_count": null,
      "outputs": []
    },
    {
      "cell_type": "code",
      "metadata": {
        "colab": {
          "base_uri": "https://localhost:8080/"
        },
        "id": "4inM7plrNJAR",
        "outputId": "5605bd38-be0f-47ab-bd1f-e0dc8e13343d"
      },
      "source": [
        "test_df['label']"
      ],
      "execution_count": null,
      "outputs": [
        {
          "data": {
            "text/plain": [
              "0         1\n",
              "1        15\n",
              "2         9\n",
              "3        19\n",
              "4         1\n",
              "         ..\n",
              "60895    18\n",
              "60896     8\n",
              "60897    23\n",
              "60898    16\n",
              "60899    10\n",
              "Name: label, Length: 60900, dtype: int64"
            ]
          },
          "execution_count": 58,
          "metadata": {},
          "output_type": "execute_result"
        }
      ]
    },
    {
      "cell_type": "code",
      "metadata": {
        "colab": {
          "base_uri": "https://localhost:8080/"
        },
        "id": "JqIubSHJMFYQ",
        "outputId": "40291e4f-3078-4c2b-a6a1-35ffde7ff0e0"
      },
      "source": [
        "test_gen = ImageDataGenerator(rescale=1./255)\n",
        "test_generator = test_gen.flow_from_dataframe(\n",
        "    test_df, \n",
        "    \"/content/content/asl_alphabets/test\", \n",
        "    x_col='filename',\n",
        "    y_col='label',\n",
        "    class_mode='raw',\n",
        "    target_size=(width,height),\n",
        "    batch_size=batch_size,\n",
        "    shuffle=False\n",
        ")"
      ],
      "execution_count": null,
      "outputs": [
        {
          "name": "stdout",
          "output_type": "stream",
          "text": [
            "Found 26100 validated image filenames.\n"
          ]
        },
        {
          "name": "stderr",
          "output_type": "stream",
          "text": [
            "/usr/local/lib/python3.7/dist-packages/keras_preprocessing/image/dataframe_iterator.py:282: UserWarning: Found 34800 invalid image filename(s) in x_col=\"filename\". These filename(s) will be ignored.\n",
            "  .format(n_invalid, x_col)\n"
          ]
        }
      ]
    },
    {
      "cell_type": "code",
      "metadata": {
        "id": "Z_26ZBIwNe5c"
      },
      "source": [
        "nb_samples = test_df.shape[0]"
      ],
      "execution_count": null,
      "outputs": []
    },
    {
      "cell_type": "code",
      "metadata": {
        "colab": {
          "base_uri": "https://localhost:8080/"
        },
        "id": "c-W6hs9cMOoW",
        "outputId": "09b52174-42e0-4d6d-8907-9ef8e361dd6e"
      },
      "source": [
        "predict = model.predict_generator(test_generator, steps=np.ceil(nb_samples/batch_size))\n",
        "predict"
      ],
      "execution_count": null,
      "outputs": [
        {
          "name": "stderr",
          "output_type": "stream",
          "text": [
            "/usr/local/lib/python3.7/dist-packages/keras/engine/training.py:2035: UserWarning: `Model.predict_generator` is deprecated and will be removed in a future version. Please use `Model.predict`, which supports generators.\n",
            "  warnings.warn('`Model.predict_generator` is deprecated and '\n"
          ]
        },
        {
          "name": "stdout",
          "output_type": "stream",
          "text": [
            "WARNING:tensorflow:Your input ran out of data; interrupting training. Make sure that your dataset or generator can generate at least `steps_per_epoch * epochs` batches (in this case, 1904.0 batches). You may need to use the repeat() function when building your dataset.\n"
          ]
        },
        {
          "data": {
            "text/plain": [
              "array([[2.4358544e-06, 2.0512896e-09, 1.2431067e-10, ..., 2.6087165e-11,\n",
              "        4.7589257e-08, 5.0331629e-15],\n",
              "       [8.9833776e-08, 1.5992946e-07, 9.1879047e-09, ..., 1.7009072e-10,\n",
              "        2.8873111e-09, 2.6028324e-09],\n",
              "       [4.4147440e-05, 3.8205440e-07, 5.5461464e-12, ..., 6.2544108e-09,\n",
              "        2.6503041e-10, 3.2515896e-10],\n",
              "       ...,\n",
              "       [3.6563928e-05, 5.6982316e-07, 5.6198015e-12, ..., 1.5533939e-08,\n",
              "        1.2081350e-09, 9.3225783e-10],\n",
              "       [6.5220924e-08, 5.3307030e-09, 8.0829763e-05, ..., 3.0534843e-04,\n",
              "        7.3657698e-09, 9.9843627e-01],\n",
              "       [2.8003372e-10, 1.9116354e-10, 9.9999785e-01, ..., 2.2190942e-09,\n",
              "        1.0270210e-08, 1.4515258e-08]], dtype=float32)"
            ]
          },
          "execution_count": 61,
          "metadata": {},
          "output_type": "execute_result"
        }
      ]
    },
    {
      "cell_type": "code",
      "metadata": {
        "id": "hCjqd_uMNYBe"
      },
      "source": [
        "predictions = np.argmax(predict, axis=-1)"
      ],
      "execution_count": null,
      "outputs": []
    },
    {
      "cell_type": "code",
      "metadata": {
        "id": "6Zab5oc7OVO6"
      },
      "source": [
        "predictions_target = le.inverse_transform(predictions)"
      ],
      "execution_count": null,
      "outputs": []
    },
    {
      "cell_type": "code",
      "metadata": {
        "colab": {
          "base_uri": "https://localhost:8080/"
        },
        "id": "iG9jSnh7OWVL",
        "outputId": "fd716b70-2e87-4ec5-88f9-64e5bb3e575b"
      },
      "source": [
        "predictions_target"
      ],
      "execution_count": null,
      "outputs": [
        {
          "data": {
            "text/plain": [
              "array(['M', 'G', 'I', ..., 'I', 'space', 'C'], dtype=object)"
            ]
          },
          "execution_count": 64,
          "metadata": {},
          "output_type": "execute_result"
        }
      ]
    },
    {
      "cell_type": "markdown",
      "metadata": {
        "id": "FG5ukanSOlIw"
      },
      "source": [
        "# Submission"
      ]
    },
    {
      "cell_type": "code",
      "metadata": {
        "colab": {
          "base_uri": "https://localhost:8080/",
          "height": 204
        },
        "id": "HHwM29w4OjvO",
        "outputId": "dca4f590-ba1a-479f-c169-2637be32537c"
      },
      "source": [
        "submission_df = pd.read_csv(\"/content/content/asl_alphabets/sample submission.csv\")\n",
        "submission_df.head()"
      ],
      "execution_count": null,
      "outputs": [
        {
          "data": {
            "text/html": [
              "<div>\n",
              "<style scoped>\n",
              "    .dataframe tbody tr th:only-of-type {\n",
              "        vertical-align: middle;\n",
              "    }\n",
              "\n",
              "    .dataframe tbody tr th {\n",
              "        vertical-align: top;\n",
              "    }\n",
              "\n",
              "    .dataframe thead th {\n",
              "        text-align: right;\n",
              "    }\n",
              "</style>\n",
              "<table border=\"1\" class=\"dataframe\">\n",
              "  <thead>\n",
              "    <tr style=\"text-align: right;\">\n",
              "      <th></th>\n",
              "      <th>label</th>\n",
              "    </tr>\n",
              "  </thead>\n",
              "  <tbody>\n",
              "    <tr>\n",
              "      <th>0</th>\n",
              "      <td>M</td>\n",
              "    </tr>\n",
              "    <tr>\n",
              "      <th>1</th>\n",
              "      <td>M</td>\n",
              "    </tr>\n",
              "    <tr>\n",
              "      <th>2</th>\n",
              "      <td>M</td>\n",
              "    </tr>\n",
              "    <tr>\n",
              "      <th>3</th>\n",
              "      <td>M</td>\n",
              "    </tr>\n",
              "    <tr>\n",
              "      <th>4</th>\n",
              "      <td>M</td>\n",
              "    </tr>\n",
              "  </tbody>\n",
              "</table>\n",
              "</div>"
            ],
            "text/plain": [
              "  label\n",
              "0     M\n",
              "1     M\n",
              "2     M\n",
              "3     M\n",
              "4     M"
            ]
          },
          "execution_count": 65,
          "metadata": {},
          "output_type": "execute_result"
        }
      ]
    },
    {
      "cell_type": "code",
      "metadata": {
        "id": "kXHlZFs5Oq_i"
      },
      "source": [
        "submission_df['label'] = predictions_target"
      ],
      "execution_count": null,
      "outputs": []
    },
    {
      "cell_type": "code",
      "metadata": {
        "colab": {
          "base_uri": "https://localhost:8080/",
          "height": 420
        },
        "id": "-glfC1fzO26r",
        "outputId": "ad2bddf3-d8da-45ad-d023-917953e831b5"
      },
      "source": [
        "submission_df"
      ],
      "execution_count": null,
      "outputs": [
        {
          "data": {
            "text/html": [
              "<div>\n",
              "<style scoped>\n",
              "    .dataframe tbody tr th:only-of-type {\n",
              "        vertical-align: middle;\n",
              "    }\n",
              "\n",
              "    .dataframe tbody tr th {\n",
              "        vertical-align: top;\n",
              "    }\n",
              "\n",
              "    .dataframe thead th {\n",
              "        text-align: right;\n",
              "    }\n",
              "</style>\n",
              "<table border=\"1\" class=\"dataframe\">\n",
              "  <thead>\n",
              "    <tr style=\"text-align: right;\">\n",
              "      <th></th>\n",
              "      <th>label</th>\n",
              "    </tr>\n",
              "  </thead>\n",
              "  <tbody>\n",
              "    <tr>\n",
              "      <th>0</th>\n",
              "      <td>M</td>\n",
              "    </tr>\n",
              "    <tr>\n",
              "      <th>1</th>\n",
              "      <td>G</td>\n",
              "    </tr>\n",
              "    <tr>\n",
              "      <th>2</th>\n",
              "      <td>I</td>\n",
              "    </tr>\n",
              "    <tr>\n",
              "      <th>3</th>\n",
              "      <td>E</td>\n",
              "    </tr>\n",
              "    <tr>\n",
              "      <th>4</th>\n",
              "      <td>D</td>\n",
              "    </tr>\n",
              "    <tr>\n",
              "      <th>...</th>\n",
              "      <td>...</td>\n",
              "    </tr>\n",
              "    <tr>\n",
              "      <th>26095</th>\n",
              "      <td>V</td>\n",
              "    </tr>\n",
              "    <tr>\n",
              "      <th>26096</th>\n",
              "      <td>B</td>\n",
              "    </tr>\n",
              "    <tr>\n",
              "      <th>26097</th>\n",
              "      <td>I</td>\n",
              "    </tr>\n",
              "    <tr>\n",
              "      <th>26098</th>\n",
              "      <td>space</td>\n",
              "    </tr>\n",
              "    <tr>\n",
              "      <th>26099</th>\n",
              "      <td>C</td>\n",
              "    </tr>\n",
              "  </tbody>\n",
              "</table>\n",
              "<p>26100 rows × 1 columns</p>\n",
              "</div>"
            ],
            "text/plain": [
              "       label\n",
              "0          M\n",
              "1          G\n",
              "2          I\n",
              "3          E\n",
              "4          D\n",
              "...      ...\n",
              "26095      V\n",
              "26096      B\n",
              "26097      I\n",
              "26098  space\n",
              "26099      C\n",
              "\n",
              "[26100 rows x 1 columns]"
            ]
          },
          "execution_count": 52,
          "metadata": {},
          "output_type": "execute_result"
        }
      ]
    },
    {
      "cell_type": "code",
      "metadata": {
        "id": "ZBkyKBHGO4js"
      },
      "source": [
        "submission_df.to_csv(\"submission02.csv\",index=False)"
      ],
      "execution_count": null,
      "outputs": []
    },
    {
      "cell_type": "code",
      "metadata": {
        "id": "TU9u9Qf-PBfv"
      },
      "source": [
        ""
      ],
      "execution_count": null,
      "outputs": []
    }
  ]
}